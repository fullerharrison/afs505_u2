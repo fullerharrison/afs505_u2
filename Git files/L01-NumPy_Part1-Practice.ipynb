{
 "cells": [
  {
   "cell_type": "markdown",
   "metadata": {},
   "source": [
    "# Lesson 1 Practice: NumPy Part 1\n",
    "Use this notebook to follow along with the lesson in the corresponding lesson notebook: [L01-Numpy_Part1-Lesson.ipynb](./L01-Numpy_Part1-Lesson.ipynb).  \n",
    "\n"
   ]
  },
  {
   "cell_type": "markdown",
   "metadata": {},
   "source": [
    "## Instructions\n",
    "Follow along with the teaching material in the lesson. Throughout the tutorial sections labeled as \"Tasks\" are interspersed and indicated with the icon: ![Task](http://icons.iconarchive.com/icons/sbstnblnd/plateau/16/Apps-gnome-info-icon.png). You should follow the instructions provided in these sections by performing them in the practice notebook.  When the tutorial is completed you can turn in the final practice notebook. For each task, use the cell below it to write and test your code.  You may add additional cells for any task as needed or desired.  "
   ]
  },
  {
   "cell_type": "markdown",
   "metadata": {},
   "source": [
    "## Task 1a: Setup\n",
    "\n",
    "In the practice notebook, import the following packages:\n",
    "+ `numpy` as `np`"
   ]
  },
  {
   "cell_type": "code",
   "execution_count": 7,
   "metadata": {},
   "outputs": [],
   "source": [
    "import numpy as np"
   ]
  },
  {
   "cell_type": "markdown",
   "metadata": {},
   "source": [
    "## Task 2a: Creating Arrays\n",
    "\n",
    "In the practice notebook, perform the following.  \n",
    "- Create a 1-dimensional numpy array and print it.\n",
    "- Create a 2-dimensional numpy array and print it.\n",
    "- Create a 3-dimensional numpy array and print it."
   ]
  },
  {
   "cell_type": "code",
   "execution_count": 12,
   "metadata": {},
   "outputs": [
    {
     "name": "stdout",
     "output_type": "stream",
     "text": [
      "[1 2 3]\n",
      "[[1 2 3]\n",
      " [1 2 3]]\n",
      "[[[1 2 3]\n",
      "  [4 5 6]]\n",
      "\n",
      " [[1 2 3]\n",
      "  [1 2 3]]]\n"
     ]
    }
   ],
   "source": [
    "one_d = np.array([1,2,3])\n",
    "two_d = np.array([[1,2,3],[1,2,3]])\n",
    "three_d = np.array([[[1,2,3],[4,5,6]],[[1,2,3],[1,2,3]]])\n",
    "\n",
    "print(one_d)\n",
    "print(two_d)\n",
    "print(three_d)"
   ]
  },
  {
   "cell_type": "markdown",
   "metadata": {},
   "source": [
    "## Task 3a: Accessing Array Attributes\n",
    "\n",
    "In the practice notebook, perform the following.\n",
    "\n",
    "- Create a NumPy array.\n",
    "- Write code that prints these attributes (one per line): `ndim`, `shape`, `size`, `dtype`, `itemsize`, `data`, `nbytes`.\n",
    "- Add a comment line, before each line describing what value the attribute returns. \n"
   ]
  },
  {
   "cell_type": "code",
   "execution_count": 15,
   "metadata": {},
   "outputs": [
    {
     "name": "stdout",
     "output_type": "stream",
     "text": [
      "3\n",
      "(2, 2, 3)\n",
      "12\n",
      "int64\n",
      "8\n",
      "<memory at 0x109cba450>\n",
      "96\n"
     ]
    }
   ],
   "source": [
    "three_d = np.array([[[1,2,3],[4,5,6]],[[1,2,3],[1,2,3]]])\n",
    "# returns 3\n",
    "print(three_d.ndim)\n",
    "# returns sides\n",
    "print(three_d.shape)\n",
    "# returns number of values inside\n",
    "print(three_d.size)\n",
    "# returns 64 bit integer or data type\n",
    "print(three_d.dtype)\n",
    "# returns 8\n",
    "print(three_d.itemsize)\n",
    "# returns<memory at 0x109cba650>\n",
    "print(three_d.data)\n",
    "# returns 96\n",
    "print(three_d.nbytes)"
   ]
  },
  {
   "cell_type": "markdown",
   "metadata": {},
   "source": [
    "## Task 4a: Initializing Arrays\n",
    "\n",
    "In the practice notebook, perform the following.\n",
    "\n",
    "+ Create an initialized array by using these functions:  `ones`, `zeros`, `empty`, `full`, `arange`, `linspace` and `random.random`. Be sure to follow each array creation with a call to `print()` to display your newly created arrays. \n",
    "+ Add a comment above each function call describing what is being done.  "
   ]
  },
  {
   "cell_type": "code",
   "execution_count": 33,
   "metadata": {},
   "outputs": [
    {
     "name": "stdout",
     "output_type": "stream",
     "text": [
      "[1. 1. 1. 1. 1.]\n",
      "[0. 0. 0. 0. 0.]\n",
      "[0. 0. 0. 0. 0.]\n",
      "[5 5 5 5 5]\n",
      "[0 1 2 3 4 5]\n",
      "[0.         0.12244898 0.24489796 0.36734694 0.48979592 0.6122449\n",
      " 0.73469388 0.85714286 0.97959184 1.10204082 1.2244898  1.34693878\n",
      " 1.46938776 1.59183673 1.71428571 1.83673469 1.95918367 2.08163265\n",
      " 2.20408163 2.32653061 2.44897959 2.57142857 2.69387755 2.81632653\n",
      " 2.93877551 3.06122449 3.18367347 3.30612245 3.42857143 3.55102041\n",
      " 3.67346939 3.79591837 3.91836735 4.04081633 4.16326531 4.28571429\n",
      " 4.40816327 4.53061224 4.65306122 4.7755102  4.89795918 5.02040816\n",
      " 5.14285714 5.26530612 5.3877551  5.51020408 5.63265306 5.75510204\n",
      " 5.87755102 6.        ]\n",
      "[[-6.83954516 -5.78200363 -5.38147766]\n",
      " [-6.86481017 -8.9345459  -8.86728646]\n",
      " [-7.77186617 -1.29247089 -3.09101456]]\n"
     ]
    }
   ],
   "source": [
    "one = np.ones(5)\n",
    "two = np.zeros(5)\n",
    "three = np.empty(5)\n",
    "four = np.full(5, 5)\n",
    "five = np.arange(0,6)\n",
    "six = np.linspace(0,6)\n",
    "seven = 10 * np.random.random_sample((3,3)) - 10\n",
    "\n",
    "# return a array of 1's with 5 elements, float\n",
    "print(one)\n",
    "# returns 5 element array as zero's, float\n",
    "print(two)\n",
    "#returns 5 element array as zero's, float\n",
    "print(three)\n",
    "# returns 5 element array of fives, integer\n",
    "print(four)\n",
    "# returns 6 element array of i+1 increment, integer\n",
    "print(five)\n",
    "# returns evenely spaced grid from 1 to 6, float\n",
    "print(six)\n",
    "# returns 3 x 3 grid of random numbers ranging from -10, 0\n",
    "print(seven)"
   ]
  },
  {
   "cell_type": "markdown",
   "metadata": {},
   "source": [
    "## Task 5a:  Broadcasting Arrays\n",
    "\n",
    "In the practice notebook, perform the following.\n",
    "\n",
    "+ Create two arrays of differing sizes but compatible with broadcasting.\n",
    "+ Perform addition, multiplication and subtraction.\n",
    "+ Create two additional arrays of differing size that do not meet the rules for broadcasting and try a mathematical operation.  "
   ]
  },
  {
   "cell_type": "code",
   "execution_count": 29,
   "metadata": {},
   "outputs": [
    {
     "name": "stdout",
     "output_type": "stream",
     "text": [
      "[[[5.52781147 5.80528245 1.0826968  1.51365522]\n",
      "  [5.52781147 5.80528245 1.0826968  1.51365522]\n",
      "  [5.52781147 5.80528245 1.0826968  1.51365522]\n",
      "  [5.52781147 5.80528245 1.0826968  1.51365522]]\n",
      "\n",
      " [[5.72045168 3.99986624 3.20194847 1.8006415 ]\n",
      "  [5.72045168 3.99986624 3.20194847 1.8006415 ]\n",
      "  [5.72045168 3.99986624 3.20194847 1.8006415 ]\n",
      "  [5.72045168 3.99986624 3.20194847 1.8006415 ]]\n",
      "\n",
      " [[3.68574205 2.30049288 3.39356215 3.24873432]\n",
      "  [3.68574205 2.30049288 3.39356215 3.24873432]\n",
      "  [3.68574205 2.30049288 3.39356215 3.24873432]\n",
      "  [3.68574205 2.30049288 3.39356215 3.24873432]]\n",
      "\n",
      " [[2.86106979 4.98554013 2.38571549 2.72242915]\n",
      "  [2.86106979 4.98554013 2.38571549 2.72242915]\n",
      "  [2.86106979 4.98554013 2.38571549 2.72242915]\n",
      "  [2.86106979 4.98554013 2.38571549 2.72242915]]]\n",
      "[[[-3.52781147 -3.80528245  0.9173032   0.48634478]\n",
      "  [-3.52781147 -3.80528245  0.9173032   0.48634478]\n",
      "  [-3.52781147 -3.80528245  0.9173032   0.48634478]\n",
      "  [-3.52781147 -3.80528245  0.9173032   0.48634478]]\n",
      "\n",
      " [[-3.72045168 -1.99986624 -1.20194847  0.1993585 ]\n",
      "  [-3.72045168 -1.99986624 -1.20194847  0.1993585 ]\n",
      "  [-3.72045168 -1.99986624 -1.20194847  0.1993585 ]\n",
      "  [-3.72045168 -1.99986624 -1.20194847  0.1993585 ]]\n",
      "\n",
      " [[-1.68574205 -0.30049288 -1.39356215 -1.24873432]\n",
      "  [-1.68574205 -0.30049288 -1.39356215 -1.24873432]\n",
      "  [-1.68574205 -0.30049288 -1.39356215 -1.24873432]\n",
      "  [-1.68574205 -0.30049288 -1.39356215 -1.24873432]]\n",
      "\n",
      " [[-0.86106979 -2.98554013 -0.38571549 -0.72242915]\n",
      "  [-0.86106979 -2.98554013 -0.38571549 -0.72242915]\n",
      "  [-0.86106979 -2.98554013 -0.38571549 -0.72242915]\n",
      "  [-0.86106979 -2.98554013 -0.38571549 -0.72242915]]]\n",
      "[[[4.52781147 4.80528245 0.0826968  0.51365522]\n",
      "  [4.52781147 4.80528245 0.0826968  0.51365522]\n",
      "  [4.52781147 4.80528245 0.0826968  0.51365522]\n",
      "  [4.52781147 4.80528245 0.0826968  0.51365522]]\n",
      "\n",
      " [[4.72045168 2.99986624 2.20194847 0.8006415 ]\n",
      "  [4.72045168 2.99986624 2.20194847 0.8006415 ]\n",
      "  [4.72045168 2.99986624 2.20194847 0.8006415 ]\n",
      "  [4.72045168 2.99986624 2.20194847 0.8006415 ]]\n",
      "\n",
      " [[2.68574205 1.30049288 2.39356215 2.24873432]\n",
      "  [2.68574205 1.30049288 2.39356215 2.24873432]\n",
      "  [2.68574205 1.30049288 2.39356215 2.24873432]\n",
      "  [2.68574205 1.30049288 2.39356215 2.24873432]]\n",
      "\n",
      " [[1.86106979 3.98554013 1.38571549 1.72242915]\n",
      "  [1.86106979 3.98554013 1.38571549 1.72242915]\n",
      "  [1.86106979 3.98554013 1.38571549 1.72242915]\n",
      "  [1.86106979 3.98554013 1.38571549 1.72242915]]]\n",
      "[[[ 3.83279348  6.96373362  2.74716426  9.6857655 ]\n",
      "  [ 1.96968072 11.811362   17.75946319  4.7266694 ]\n",
      "  [ 7.22043476 17.00716096  7.67163589 15.46158281]\n",
      "  [ 6.16174937 19.12368845  0.58484204  4.42934551]\n",
      "  [ 9.06565228  1.80649124  1.82679461 10.27937524]\n",
      "  [ 6.53445097 21.48677131  8.03446021  5.68576019]\n",
      "  [ 2.94973559 28.52982184  5.57080648 14.41576999]\n",
      "  [ 4.30853682 22.91304188 17.67109158  0.34150217]\n",
      "  [ 1.87871707 30.92581015  0.76415763  0.78143498]\n",
      "  [ 1.82567716 10.26878538  4.18489915  0.62602547]]\n",
      "\n",
      " [[18.97368678 10.71601511  2.39298543 21.76384411]\n",
      "  [ 9.750618   18.17570007 15.46982002 10.6207915 ]\n",
      "  [35.74371234 26.17116101  6.68256834 34.74206329]\n",
      "  [30.50284427 29.42814092  0.50944113  9.9527069 ]\n",
      "  [44.87819337  2.77988626  1.59127467 23.09768084]\n",
      "  [32.34784934 33.0645281   6.99861545 12.77586149]\n",
      "  [14.60223713 43.9025986   4.85258888 32.39212953]\n",
      "  [21.32878501 35.25931869 15.39284175  0.76735287]\n",
      "  [ 9.30031568 47.58962173  0.66563842  1.75587867]\n",
      "  [ 9.0377493  15.80193402  3.64536     1.40667464]]\n",
      "\n",
      " [[15.37210717  1.30215549  0.72613568 21.45686183]\n",
      "  [ 7.89975858  2.20861835  4.69421509 10.47098364]\n",
      "  [28.95885144  3.18018597  2.02778139 34.25202128]\n",
      "  [24.7128034   3.57595756  0.15458656  9.81232248]\n",
      "  [36.35942799  0.3377976   0.48286183 22.7718846 ]\n",
      "  [26.20759015  4.01783277  2.12368381 12.59565605]\n",
      "  [11.8304448   5.33481981  1.47248617 31.93523369]\n",
      "  [17.28016135  4.28453253  4.67085654  0.75652924]\n",
      "  [ 7.53493251  5.78284805  0.2019836   1.73111174]\n",
      "  [ 7.3222064   1.92017041  1.1061605   1.38683328]]\n",
      "\n",
      " [[15.88836388  8.26389324  1.52370272 28.29739299]\n",
      "  [ 8.165064   14.0165951   9.85020904 13.80917402]\n",
      "  [29.93140525 20.18247252  4.25503949 45.17169912]\n",
      "  [25.54275796 22.69416497  0.32438009 12.94052911]\n",
      "  [37.58052268  2.14377108  1.01322369 30.03165013]\n",
      "  [27.08774562 25.49844577  4.45627842 16.61120027]\n",
      "  [12.22775835 33.85646473  3.08982359 42.11631062]\n",
      "  [17.86049813 27.19100732  9.80119411  0.99771371]\n",
      "  [ 7.78798561 36.69979457  0.42383671  2.28299691]\n",
      "  [ 7.56811531 12.18601265  2.32113612  1.82896114]]\n",
      "\n",
      " [[ 8.14463989  2.75579275  0.82382388 26.49538648]\n",
      "  [ 4.18554777  4.67416871  5.32573539 12.9297919 ]\n",
      "  [15.34333673  6.73032794  2.30058208 42.29511979]\n",
      "  [13.09364306  7.56791183  0.17538334 12.11646318]\n",
      "  [19.2644017   0.71489171  0.547822   28.11920438]\n",
      "  [13.88562946  8.5030663   2.4093864  15.5533823 ]\n",
      "  [ 6.26815254 11.29024753  1.6705821  39.43430151]\n",
      "  [ 9.15558875  9.06749141  5.29923437  0.93417829]\n",
      "  [ 3.99225111 12.23842383  0.22915678  2.13761336]\n",
      "  [ 3.87954193  4.06371723  1.25497405  1.71249105]]\n",
      "\n",
      " [[11.91283172  1.7407074   5.80680017 11.85873463]\n",
      "  [ 6.12202956  2.95245716 37.53894708  5.78708188]\n",
      "  [22.44207123  4.25123827 16.21586928 18.93033725]\n",
      "  [19.15153628  4.78030145  1.23620596  5.42305437]\n",
      "  [28.17725262  0.45156418  3.86137495 12.58551872]\n",
      "  [20.3099424   5.37099547 16.98278678  6.96134149]\n",
      "  [ 9.16817041  7.13152951 11.77525511 17.64989981]\n",
      "  [13.39150528  5.72751682 37.35215218  0.41811704]\n",
      "  [ 5.83930244  7.73044883  1.6152331   0.9567473 ]\n",
      "  [ 5.67444734  2.56686307  8.84580272  0.76647219]]\n",
      "\n",
      " [[17.08449558  5.42873764  5.31058948  9.40190749]\n",
      "  [ 8.77975862  9.20781709 34.3311172   4.58814622]\n",
      "  [32.18474631 13.25832088 14.83016846 15.00845455]\n",
      "  [27.46570628 14.90830824  1.13056798  4.29953592]\n",
      "  [40.4097161   1.40829152  3.53140741  9.97812048]\n",
      "  [29.12700602 16.75050346 15.53155027  5.51912921]\n",
      "  [13.14830684 22.24107442 10.76901977 13.99329106]\n",
      "  [19.20509901 17.86238528 34.16028456  0.33149386]\n",
      "  [ 8.37429246 24.10892185  1.47720597  0.75853368]\n",
      "  [ 8.13786955  8.00526624  8.08989898  0.60767872]]]\n"
     ]
    }
   ],
   "source": [
    "array_one = np.ones((4,4))\n",
    "array_two = 5 * np.random.random((4,1,4))\n",
    "array_three = 10 * np.random.random((7,1,4))\n",
    "array_four = 5 * np.random.random((10,4))\n",
    "\n",
    "result_one = array_one + array_two\n",
    "result_two = array_one - array_two\n",
    "result_three = array_one * array_two\n",
    "result_four =  array_three * array_four\n",
    "\n",
    "print(result_one)\n",
    "print(result_two)\n",
    "print(result_three)\n",
    "print(result_four)"
   ]
  },
  {
   "cell_type": "markdown",
   "metadata": {},
   "source": [
    "## Task 6a: Math/Stats Aggregate Functions\n",
    "\n",
    "In the practice notebook, perform the following.\n",
    "\n",
    "+ Create three to five arrays\n",
    "+ Experiment with each of the aggregation functions: `sum`, `minimum`, `maximum`, `cumsum`, `mean`, `np.corrcoef`, `np.std`, `np.var`. \n",
    "+ For each function call, add a comment line above it that describes what it does.  \n",
    "```\n"
   ]
  },
  {
   "cell_type": "code",
   "execution_count": 75,
   "metadata": {},
   "outputs": [
    {
     "name": "stdout",
     "output_type": "stream",
     "text": [
      "15\n",
      "[[0. 1. 1. 1. 1. 1.]\n",
      " [0. 1. 1. 1. 1. 1.]\n",
      " [0. 1. 1. 1. 1. 1.]\n",
      " [0. 1. 1. 1. 1. 1.]\n",
      " [0. 1. 1. 1. 1. 1.]\n",
      " [0. 1. 1. 1. 1. 1.]]\n",
      "[[[1. 1. 1. 1. 1. 1.]\n",
      "  [1. 1. 1. 1. 1. 1.]\n",
      "  [1. 1. 1. 1. 1. 1.]\n",
      "  [1. 1. 1. 1. 1. 1.]\n",
      "  [1. 1. 1. 1. 1. 1.]\n",
      "  [1. 1. 1. 1. 1. 1.]]\n",
      "\n",
      " [[1. 1. 1. 1. 1. 1.]\n",
      "  [1. 1. 1. 1. 1. 1.]\n",
      "  [1. 1. 1. 1. 1. 1.]\n",
      "  [1. 1. 1. 1. 1. 1.]\n",
      "  [1. 1. 1. 1. 1. 1.]\n",
      "  [1. 1. 1. 1. 1. 1.]]]\n",
      "[[[1. 1. 1. 1.]\n",
      "  [2. 2. 2. 2.]\n",
      "  [3. 3. 3. 3.]\n",
      "  [4. 4. 4. 4.]\n",
      "  [5. 5. 5. 5.]\n",
      "  [6. 6. 6. 6.]]\n",
      "\n",
      " [[1. 1. 1. 1.]\n",
      "  [2. 2. 2. 2.]\n",
      "  [3. 3. 3. 3.]\n",
      "  [4. 4. 4. 4.]\n",
      "  [5. 5. 5. 5.]\n",
      "  [6. 6. 6. 6.]]]\n",
      "2.5\n",
      "1.0\n",
      "1.707825127659933\n",
      "0.0\n"
     ]
    }
   ],
   "source": [
    "df_1 = np.arange(0,6)\n",
    "df_2 = np.ones((6,6))\n",
    "df_3 = np.ones((2,6,4))\n",
    "df_4 = np.random.random((2,6,6))\n",
    "# returns sum of 0+1+2+3+4+5\n",
    "print(np.sum(df_1))\n",
    "# return 4x6x6\n",
    "print(np.minimum(df_2,df_1))\n",
    "# returns 12x6\n",
    "print(np.maximum(df_2, df_4))\n",
    "# returns the sum of the arrays present\n",
    "print(np.cumsum(df_3,1))\n",
    "# returns (0+1+2+3+4+5)/6\n",
    "print(np.mean(df_1))\n",
    "# returns correlation of 1 for 1increase in array\n",
    "print(np.corrcoef(df_1))\n",
    "# calculates standard deviation of 1x6\n",
    "print(np.std(df_1))\n",
    "# returns variance of two identical arrays\n",
    "print(np.var(df_2))"
   ]
  },
  {
   "cell_type": "markdown",
   "metadata": {},
   "source": [
    "## Task 6b: Logical Aggregate Functions\n",
    "\n",
    "In the practice notebook, perform the following.\n",
    "\n",
    "+ Create two arrays containing boolean values.\n",
    "+ Experiment with each of the aggregation functions: `logical_and`, `logical_or`, `logical_not`. \n",
    "+ For each function call, add a comment line above it that describes what it does.  \n",
    "```"
   ]
  },
  {
   "cell_type": "code",
   "execution_count": null,
   "metadata": {},
   "outputs": [],
   "source": []
  }
 ],
 "metadata": {
  "kernelspec": {
   "display_name": "Python 3",
   "language": "python",
   "name": "python3"
  },
  "language_info": {
   "codemirror_mode": {
    "name": "ipython",
    "version": 3
   },
   "file_extension": ".py",
   "mimetype": "text/x-python",
   "name": "python",
   "nbconvert_exporter": "python",
   "pygments_lexer": "ipython3",
   "version": "3.7.4"
  }
 },
 "nbformat": 4,
 "nbformat_minor": 4
}
