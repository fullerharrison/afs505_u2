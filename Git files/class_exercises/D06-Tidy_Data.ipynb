{
 "cells": [
  {
   "cell_type": "markdown",
   "metadata": {},
   "source": [
    "# Lesson 5 Class Exercises: Tidy Data"
   ]
  },
  {
   "cell_type": "markdown",
   "metadata": {},
   "source": [
    "With these class exercises we learn a few new things.  When new knowledge is introduced you'll see the icon shown on the right: \n",
    "<span style=\"float:right; margin-left:10px; clear:both;\">![Task](https://github.com/spficklin/Data-Analytics-With-Python/blob/master/media/new_knowledge.png?raw=true)</span>\n",
    "\n",
    "## Tidy Summary:\n",
    "### Rules for Tidy data\n",
    "+ Each variable forms a unique column in the data frame.\n",
    "+ Each observation forms a row in the data frame.\n",
    "+ Each **type** of observational unit needs its own table.\n",
    "\n",
    "### Spotting messy data\n",
    "1. Column headers are values, not variable names.\n",
    "2. Multiple variables are stored in one column.\n",
    "3. Variables are stored in both rows and columns.\n",
    "4. Multiple types of observational units are stored in the same table.\n",
    "5. A single observational unit is stored in multiple tables."
   ]
  },
  {
   "cell_type": "markdown",
   "metadata": {},
   "source": [
    "## Get Started\n",
    "Import the Numpy and Pandas packages"
   ]
  },
  {
   "cell_type": "code",
   "execution_count": 3,
   "metadata": {},
   "outputs": [],
   "source": [
    "import numpy as np\n",
    "import pandas as pd"
   ]
  },
  {
   "cell_type": "markdown",
   "metadata": {},
   "source": [
    "## Exercise 1:  Review of Tidy Practice\n",
    "### Task 1: Task 3b from the Practice Notebook\n",
    "Download the [PI_DataSet.txt](https://hivdb.stanford.edu/download/GenoPhenoDatasets/PI_DataSet.txt) file from [HIV Drug Resistance Database](https://hivdb.stanford.edu/pages/genopheno.dataset.html). Store the file in the same directory as the practice notebook for this assignment.\n",
    "\n",
    "Here is the meaning of data columns:\n",
    "- SeqID:  a numeric identifier for a unique HIV isolate protease sequence.  Note: disruption of the protease inhibits HIV’s ability to reproduce.\n",
    "- The Next 8 columns are identifiers for unique protease inhibitor class drugs.  \n",
    "  - The values in these columns are the fold resistance over wild type (the HIV strain susceptible to all drugs).\n",
    "  - Fold change is the ratio of the drug concentration needed to inhibit the isolate.\n",
    "- The latter columns, with P as a prefix, are the positions of the amino acids in the protease. \n",
    "  - '-' indicates consensus.\n",
    "  - '.' indicates no sequence.\n",
    "  - '#' indicates an insertion. \n",
    "  - '~' indicates a deletion;.\n",
    "  - '*' indicates a stop codon\n",
    "  - a letter indicates one letter Amino Acid substitution. \n",
    "  - two and more amino acid codes indicates a mixture. \n",
    "\n",
    "Import this dataset into your notebook, view the top few rows of the data and respond to these questions:"
   ]
  },
  {
   "cell_type": "code",
   "execution_count": 8,
   "metadata": {},
   "outputs": [
    {
     "data": {
      "text/html": [
       "<div>\n",
       "<style scoped>\n",
       "    .dataframe tbody tr th:only-of-type {\n",
       "        vertical-align: middle;\n",
       "    }\n",
       "\n",
       "    .dataframe tbody tr th {\n",
       "        vertical-align: top;\n",
       "    }\n",
       "\n",
       "    .dataframe thead th {\n",
       "        text-align: right;\n",
       "    }\n",
       "</style>\n",
       "<table border=\"1\" class=\"dataframe\">\n",
       "  <thead>\n",
       "    <tr style=\"text-align: right;\">\n",
       "      <th></th>\n",
       "      <th>SeqID</th>\n",
       "      <th>FPV</th>\n",
       "      <th>ATV</th>\n",
       "      <th>IDV</th>\n",
       "      <th>LPV</th>\n",
       "      <th>NFV</th>\n",
       "      <th>SQV</th>\n",
       "      <th>TPV</th>\n",
       "      <th>DRV</th>\n",
       "      <th>P1</th>\n",
       "      <th>...</th>\n",
       "      <th>P91</th>\n",
       "      <th>P92</th>\n",
       "      <th>P93</th>\n",
       "      <th>P94</th>\n",
       "      <th>P95</th>\n",
       "      <th>P96</th>\n",
       "      <th>P97</th>\n",
       "      <th>P98</th>\n",
       "      <th>P99</th>\n",
       "      <th>CompMutList</th>\n",
       "    </tr>\n",
       "  </thead>\n",
       "  <tbody>\n",
       "    <tr>\n",
       "      <td>0</td>\n",
       "      <td>12861</td>\n",
       "      <td>0.4</td>\n",
       "      <td>NaN</td>\n",
       "      <td>0.5</td>\n",
       "      <td>NaN</td>\n",
       "      <td>7.1</td>\n",
       "      <td>0.5</td>\n",
       "      <td>NaN</td>\n",
       "      <td>NaN</td>\n",
       "      <td>-</td>\n",
       "      <td>...</td>\n",
       "      <td>-</td>\n",
       "      <td>-</td>\n",
       "      <td>-</td>\n",
       "      <td>-</td>\n",
       "      <td>-</td>\n",
       "      <td>-</td>\n",
       "      <td>-</td>\n",
       "      <td>-</td>\n",
       "      <td>-</td>\n",
       "      <td>D30N, R57G, N88D</td>\n",
       "    </tr>\n",
       "    <tr>\n",
       "      <td>1</td>\n",
       "      <td>12862</td>\n",
       "      <td>0.8</td>\n",
       "      <td>NaN</td>\n",
       "      <td>1.2</td>\n",
       "      <td>NaN</td>\n",
       "      <td>24.7</td>\n",
       "      <td>0.9</td>\n",
       "      <td>NaN</td>\n",
       "      <td>NaN</td>\n",
       "      <td>-</td>\n",
       "      <td>...</td>\n",
       "      <td>-</td>\n",
       "      <td>-</td>\n",
       "      <td>-</td>\n",
       "      <td>-</td>\n",
       "      <td>-</td>\n",
       "      <td>-</td>\n",
       "      <td>-</td>\n",
       "      <td>-</td>\n",
       "      <td>-</td>\n",
       "      <td>D30N, M46I, R57G, L63P, N88D</td>\n",
       "    </tr>\n",
       "    <tr>\n",
       "      <td>2</td>\n",
       "      <td>12863</td>\n",
       "      <td>3.0</td>\n",
       "      <td>NaN</td>\n",
       "      <td>2.8</td>\n",
       "      <td>NaN</td>\n",
       "      <td>2.2</td>\n",
       "      <td>1.0</td>\n",
       "      <td>NaN</td>\n",
       "      <td>NaN</td>\n",
       "      <td>-</td>\n",
       "      <td>...</td>\n",
       "      <td>-</td>\n",
       "      <td>-</td>\n",
       "      <td>-</td>\n",
       "      <td>-</td>\n",
       "      <td>-</td>\n",
       "      <td>-</td>\n",
       "      <td>-</td>\n",
       "      <td>-</td>\n",
       "      <td>-</td>\n",
       "      <td>M46I, R57G, L63P, V82T, I84V</td>\n",
       "    </tr>\n",
       "  </tbody>\n",
       "</table>\n",
       "<p>3 rows × 109 columns</p>\n",
       "</div>"
      ],
      "text/plain": [
       "   SeqID  FPV  ATV  IDV  LPV   NFV  SQV  TPV  DRV P1  ... P91 P92 P93 P94 P95  \\\n",
       "0  12861  0.4  NaN  0.5  NaN   7.1  0.5  NaN  NaN  -  ...   -   -   -   -   -   \n",
       "1  12862  0.8  NaN  1.2  NaN  24.7  0.9  NaN  NaN  -  ...   -   -   -   -   -   \n",
       "2  12863  3.0  NaN  2.8  NaN   2.2  1.0  NaN  NaN  -  ...   -   -   -   -   -   \n",
       "\n",
       "  P96 P97 P98 P99                   CompMutList  \n",
       "0   -   -   -   -              D30N, R57G, N88D  \n",
       "1   -   -   -   -  D30N, M46I, R57G, L63P, N88D  \n",
       "2   -   -   -   -  M46I, R57G, L63P, V82T, I84V  \n",
       "\n",
       "[3 rows x 109 columns]"
      ]
     },
     "execution_count": 8,
     "metadata": {},
     "output_type": "execute_result"
    }
   ],
   "source": [
    "pi_df = pd.read_csv('https://hivdb.stanford.edu/download/GenoPhenoDatasets/PI_DataSet.txt', sep = '\\t')\n",
    "pi_df.head(3)"
   ]
  },
  {
   "cell_type": "markdown",
   "metadata": {},
   "source": [
    "What are the variables?"
   ]
  },
  {
   "cell_type": "markdown",
   "metadata": {},
   "source": [
    "drug, fold change, position, position variant, mutation list"
   ]
  },
  {
   "cell_type": "markdown",
   "metadata": {},
   "source": [
    "What are the observations?"
   ]
  },
  {
   "cell_type": "raw",
   "metadata": {},
   "source": [
    "numeric fold change value, position number, variant type, mutation names list"
   ]
  },
  {
   "cell_type": "markdown",
   "metadata": {},
   "source": [
    "What are the values?  "
   ]
  },
  {
   "cell_type": "raw",
   "metadata": {},
   "source": [
    "same as observations"
   ]
  },
  {
   "cell_type": "markdown",
   "metadata": {},
   "source": [
    "What is the observational unit?"
   ]
  },
  {
   "cell_type": "raw",
   "metadata": {},
   "source": [
    "protease"
   ]
  },
  {
   "cell_type": "markdown",
   "metadata": {},
   "source": [
    "What makes this dataset untidy?"
   ]
  },
  {
   "cell_type": "raw",
   "metadata": {},
   "source": [
    "Columns have variables"
   ]
  },
  {
   "cell_type": "markdown",
   "metadata": {},
   "source": [
    "### Task 2: Task 3c from the practice notebook\n",
    "\n",
    "Use the data retreived from task 3b, generate a data frame containing a Tidy’ed set of values for drug concentration fold change. Be sure to:\n",
    "\n",
    "- Set the column names as ‘SeqID’, ‘Drug’ and ‘Fold_change’.\n",
    "- Order the data frame first by sequence ID and then by Drug name\n",
    "- Reset the row indexes\n",
    "- Display the first 10 elements."
   ]
  },
  {
   "cell_type": "code",
   "execution_count": 31,
   "metadata": {},
   "outputs": [
    {
     "data": {
      "text/html": [
       "<div>\n",
       "<style scoped>\n",
       "    .dataframe tbody tr th:only-of-type {\n",
       "        vertical-align: middle;\n",
       "    }\n",
       "\n",
       "    .dataframe tbody tr th {\n",
       "        vertical-align: top;\n",
       "    }\n",
       "\n",
       "    .dataframe thead th {\n",
       "        text-align: right;\n",
       "    }\n",
       "</style>\n",
       "<table border=\"1\" class=\"dataframe\">\n",
       "  <thead>\n",
       "    <tr style=\"text-align: right;\">\n",
       "      <th></th>\n",
       "      <th>SeqID</th>\n",
       "      <th>Drug</th>\n",
       "      <th>Fold_change</th>\n",
       "    </tr>\n",
       "  </thead>\n",
       "  <tbody>\n",
       "    <tr>\n",
       "      <td>0</td>\n",
       "      <td>12861</td>\n",
       "      <td>FPV</td>\n",
       "      <td>0.4</td>\n",
       "    </tr>\n",
       "    <tr>\n",
       "      <td>1</td>\n",
       "      <td>12862</td>\n",
       "      <td>FPV</td>\n",
       "      <td>0.8</td>\n",
       "    </tr>\n",
       "    <tr>\n",
       "      <td>2</td>\n",
       "      <td>12863</td>\n",
       "      <td>FPV</td>\n",
       "      <td>3</td>\n",
       "    </tr>\n",
       "    <tr>\n",
       "      <td>3</td>\n",
       "      <td>12864</td>\n",
       "      <td>FPV</td>\n",
       "      <td>4.4</td>\n",
       "    </tr>\n",
       "    <tr>\n",
       "      <td>4</td>\n",
       "      <td>12865</td>\n",
       "      <td>FPV</td>\n",
       "      <td>3.6</td>\n",
       "    </tr>\n",
       "    <tr>\n",
       "      <td>5</td>\n",
       "      <td>12866</td>\n",
       "      <td>FPV</td>\n",
       "      <td>4.5</td>\n",
       "    </tr>\n",
       "    <tr>\n",
       "      <td>6</td>\n",
       "      <td>12867</td>\n",
       "      <td>FPV</td>\n",
       "      <td>2.3</td>\n",
       "    </tr>\n",
       "    <tr>\n",
       "      <td>7</td>\n",
       "      <td>13255</td>\n",
       "      <td>FPV</td>\n",
       "      <td>0.1</td>\n",
       "    </tr>\n",
       "    <tr>\n",
       "      <td>8</td>\n",
       "      <td>13256</td>\n",
       "      <td>FPV</td>\n",
       "      <td>0.1</td>\n",
       "    </tr>\n",
       "    <tr>\n",
       "      <td>9</td>\n",
       "      <td>13257</td>\n",
       "      <td>FPV</td>\n",
       "      <td>0.1</td>\n",
       "    </tr>\n",
       "  </tbody>\n",
       "</table>\n",
       "</div>"
      ],
      "text/plain": [
       "   SeqID Drug Fold_change\n",
       "0  12861  FPV         0.4\n",
       "1  12862  FPV         0.8\n",
       "2  12863  FPV           3\n",
       "3  12864  FPV         4.4\n",
       "4  12865  FPV         3.6\n",
       "5  12866  FPV         4.5\n",
       "6  12867  FPV         2.3\n",
       "7  13255  FPV         0.1\n",
       "8  13256  FPV         0.1\n",
       "9  13257  FPV         0.1"
      ]
     },
     "execution_count": 31,
     "metadata": {},
     "output_type": "execute_result"
    }
   ],
   "source": [
    "pi_df.columns\n",
    "pi_cut = pi_df[['SeqID', 'FPV', 'ATV', 'IDV', 'LPV', 'NFV', 'SQV', 'TPV', 'DRV']]\n",
    "pi_cut.head(1)\n",
    "pi_melt = pi_df.melt(id_vars = 'SeqID',\n",
    "                    var_name = 'Drug',\n",
    "                    value_name = 'Fold_change')\n",
    "pi_melt.head(10)"
   ]
  },
  {
   "cell_type": "markdown",
   "metadata": {},
   "source": [
    "### Task 3: Tidy everything\n",
    "In Task 2 above we only tidied up the drug fold change. But, now let's tidy up everything:\n",
    "+ Drop the CompMutList column\n",
    "+ The final dataframe should have these column names:  SeqID, Position, AA_Diff, Drug, Fold Change.\n",
    "+ Rename the amino acide positions to remove the 'P' and convert it to a numeric column."
   ]
  },
  {
   "cell_type": "code",
   "execution_count": 42,
   "metadata": {},
   "outputs": [
    {
     "data": {
      "text/html": [
       "<div>\n",
       "<style scoped>\n",
       "    .dataframe tbody tr th:only-of-type {\n",
       "        vertical-align: middle;\n",
       "    }\n",
       "\n",
       "    .dataframe tbody tr th {\n",
       "        vertical-align: top;\n",
       "    }\n",
       "\n",
       "    .dataframe thead th {\n",
       "        text-align: right;\n",
       "    }\n",
       "</style>\n",
       "<table border=\"1\" class=\"dataframe\">\n",
       "  <thead>\n",
       "    <tr style=\"text-align: right;\">\n",
       "      <th></th>\n",
       "      <th>SeqID</th>\n",
       "      <th>Position</th>\n",
       "      <th>AA_change</th>\n",
       "      <th>variable</th>\n",
       "      <th>value</th>\n",
       "    </tr>\n",
       "  </thead>\n",
       "  <tbody>\n",
       "    <tr>\n",
       "      <td>0</td>\n",
       "      <td>12861</td>\n",
       "      <td>P1</td>\n",
       "      <td>-</td>\n",
       "      <td>FPV</td>\n",
       "      <td>0.4</td>\n",
       "    </tr>\n",
       "    <tr>\n",
       "      <td>1</td>\n",
       "      <td>12862</td>\n",
       "      <td>P1</td>\n",
       "      <td>-</td>\n",
       "      <td>FPV</td>\n",
       "      <td>0.8</td>\n",
       "    </tr>\n",
       "  </tbody>\n",
       "</table>\n",
       "</div>"
      ],
      "text/plain": [
       "   SeqID Position AA_change variable  value\n",
       "0  12861       P1         -      FPV    0.4\n",
       "1  12862       P1         -      FPV    0.8"
      ]
     },
     "execution_count": 42,
     "metadata": {},
     "output_type": "execute_result"
    }
   ],
   "source": [
    "#pi_df.drop(['CompMutList'], axis = 1, inplace = True)\n",
    "pi_all = pd.melt(pi_df,\n",
    "                id_vars = ['SeqID', 'FPV', 'ATV', 'IDV', 'LPV', 'NFV', 'SQV', 'TPV', 'DRV'],\n",
    "                var_name = 'Position', value_name = 'AA_change')\n",
    "        \n",
    "pi_all2 = pd.melt(pi_all, id_vars = ['SeqID', 'Position', 'AA_change'],\n",
    "                  value_vars = ['FPV', 'ATV', 'IDV', 'LPV', 'NFV', 'SQV', 'TPV', 'DRV'])\n",
    "pi_all2.head(2)"
   ]
  },
  {
   "cell_type": "code",
   "execution_count": null,
   "metadata": {},
   "outputs": [],
   "source": []
  },
  {
   "cell_type": "code",
   "execution_count": null,
   "metadata": {},
   "outputs": [],
   "source": []
  },
  {
   "cell_type": "markdown",
   "metadata": {},
   "source": [
    "## Exercise 2:  More Tidy Practice\n",
    "\n",
    "Let's revisit the weather data from the Tidy paper which contains the daily weather records for five months in 2010 for the MX17004 weather station in Mexico. Each day of the month has its own column (e.g. d1, d2, d3, etc.).  The example data only provides the first 8 dayRun the following code to get the data into the notebook:\n",
    "```python\n",
    "data = [['MX17004',2010,1,'tmax',None,None,None,None,None,None,None,None],\n",
    "        ['MX17004',2010,1,'tmin',None,None,None,None,None,None,None,None],\n",
    "        ['MX17004',2010,2,'tmax',None,27.3,24.1,None,None,None,None,None],\n",
    "        ['MX17004',2010,2,'tmin',None,14.4,14.4,None,None,None,None,None],\n",
    "        ['MX17004',2010,3,'tmax',None,None,None,None,32.1,None,None,None],\n",
    "        ['MX17004',2010,3,'tmin',None,None,None,None,14.2,None,None,None],\n",
    "        ['MX17004',2010,4,'tmax',None,None,None,None,None,None,None,None],\n",
    "        ['MX17004',2010,4,'tmin',None,None,None,None,None,None,None,None],\n",
    "        ['MX17004',2010,5,'tmax',None,None,None,None,None,None,None,None],\n",
    "        ['MX17004',2010,5,'tmin',None,None,None,None,None,None,None,None]]\n",
    "headers = ['id','year','month','element','d1','d2','d3','d4','d5','d6','d7','d8']\n",
    "weather = pd.DataFrame(data, columns=headers)\n",
    "weather\n",
    "```"
   ]
  },
  {
   "cell_type": "code",
   "execution_count": null,
   "metadata": {},
   "outputs": [],
   "source": []
  },
  {
   "cell_type": "markdown",
   "metadata": {},
   "source": [
    "What makes this dataset untidy?"
   ]
  },
  {
   "cell_type": "raw",
   "metadata": {},
   "source": [
    "1. The variable day of the month is in the column header.  \n",
    "2. The max and min temperature variables are in the rows but should be column headers."
   ]
  },
  {
   "cell_type": "markdown",
   "metadata": {},
   "source": [
    "The solution for how to tidy this data is in the notebook from Lesson 5. However, we're going to try a slightly different approach. It uses the same steps but in a different order.\n",
    "\n",
    "First melt the data appropriately to get the day as its own column.  Name the melted dataframe `weather_melted`. Remove the `d` from the beginning of the day and convert it to an integer. Print the first 5 rows:"
   ]
  },
  {
   "cell_type": "code",
   "execution_count": 48,
   "metadata": {
    "scrolled": true
   },
   "outputs": [
    {
     "data": {
      "text/plain": [
       "id         object\n",
       "year        int64\n",
       "month       int64\n",
       "element    object\n",
       "Days        int64\n",
       "Temp       object\n",
       "dtype: object"
      ]
     },
     "execution_count": 48,
     "metadata": {},
     "output_type": "execute_result"
    }
   ],
   "source": [
    "data = [['MX17004',2010,1,'tmax',None,None,None,None,None,None,None,None],\n",
    "        ['MX17004',2010,1,'tmin',None,None,None,None,None,None,None,None],\n",
    "        ['MX17004',2010,2,'tmax',None,27.3,24.1,None,None,None,None,None],\n",
    "        ['MX17004',2010,2,'tmin',None,14.4,14.4,None,None,None,None,None],\n",
    "        ['MX17004',2010,3,'tmax',None,None,None,None,32.1,None,None,None],\n",
    "        ['MX17004',2010,3,'tmin',None,None,None,None,14.2,None,None,None],\n",
    "        ['MX17004',2010,4,'tmax',None,None,None,None,None,None,None,None],\n",
    "        ['MX17004',2010,4,'tmin',None,None,None,None,None,None,None,None],\n",
    "        ['MX17004',2010,5,'tmax',None,None,None,None,None,None,None,None],\n",
    "        ['MX17004',2010,5,'tmin',None,None,None,None,None,None,None,None]]\n",
    "headers = ['id','year','month','element','d1','d2','d3','d4','d5','d6','d7','d8']\n",
    "weather = pd.DataFrame(data, columns=headers)\n",
    "weather_melted = weather.melt(['id', 'year', 'month', 'element'],\n",
    "                             var_name = 'Days',\n",
    "                             value_name = 'Temp')\n",
    "\n",
    "weather_melted['Days'] = weather_melted['Days'].str.replace('d','').astype()\n",
    "weather_melted.dtypes\n",
    "                              "
   ]
  },
  {
   "cell_type": "markdown",
   "metadata": {},
   "source": [
    "Now that we have the day melted, next, pivot so that we have two variables tmax and tmin as their own columns. Name the resulting dataframe `weather_pivoted`.  Print the top few rows."
   ]
  },
  {
   "cell_type": "code",
   "execution_count": null,
   "metadata": {},
   "outputs": [],
   "source": [
    "weather_pivoted = weather_melted.pivot_table(index = ['id','year','month','Day'],\n",
    "                                           columns = 'element', values = 'Temp' )\n"
   ]
  },
  {
   "cell_type": "markdown",
   "metadata": {},
   "source": [
    "Notice that we mave multi-level indexing. Reduce this to a typical one-level index using the `reset_index` function. "
   ]
  },
  {
   "cell_type": "code",
   "execution_count": null,
   "metadata": {},
   "outputs": [],
   "source": []
  },
  {
   "cell_type": "markdown",
   "metadata": {},
   "source": [
    "Notice, however, we still have MultiIndexing on the column.  We can remove this by simply resetting the column names."
   ]
  },
  {
   "cell_type": "code",
   "execution_count": null,
   "metadata": {},
   "outputs": [],
   "source": []
  },
  {
   "cell_type": "markdown",
   "metadata": {},
   "source": [
    "<span style=\"float:right; margin-left:10px; clear:both;\">![Task](https://github.com/spficklin/Data-Analytics-With-Python/blob/master/media/new_knowledge.png?raw=true)</span>\n",
    "\n",
    "Finally, let's convert the year, month and day to a datetime object.  Previously, when we wanted to convert the date in a string to a `datetime` object we used the `pd.to_datetime` function. However, our date is spread across three different columns and is not a string. The `pd.to_datetime` function will also accept   In the Tidy Data lesson we did this using the `datatime` package but it was not well explained. Let's look at this deeper.  \n",
    "\n",
    "The [`datetime` module](https://docs.python.org/3/library/datetime.html) provides a variety of functions for working with dates. The function that will most help us is the `datetime.datetime` function.  See [documentation here](https://docs.python.org/3/library/datetime.html#datetime.datetime).  We can use this function to create the `datetime` objects that we need. But this is a Python module and not a Pandas module.  So, it does not accept a Series.  We must therefore use the `apply` function of the Pandas dataframe. Rememer that the `apply` function takes the name of a function or a function itself! Review the following code.\n",
    "\n",
    "```python\n",
    "import datetime\n",
    "\n",
    "def create_date(row):\n",
    "    return datetime.datetime(year=row[\"year\"], month=int(row[\"month\"]), day=row[\"day\"])\n",
    "\n",
    "melted_weather[\"date\"] = melted_weather.apply(lambda row: create_date(row), axis=1)\n",
    "```\n",
    "\n",
    "When the `apply` function was first introduced in the [L04-Pandas_Part2.ipynb Lesson](./L04-Pandas_Part2-Practice.ipynb#4.2-Apply) we supplied function names like `print` or `np.sum`. That worked because by default, with `apply`, the function is applied across rows (i.e. down each column).  We need to calculate the date which is across columns. We can provide the `axis=1` argument to `apply` but we only need 3 columns to form a date, and our melted/pivoted dataframe has more than just the 3 date-specific columns in.  \n",
    "\n",
    "To solve this challenge, we have to create our own function to give to the `apply` function.  In the code above, the `create_date` function provides this functionality. Here, the function receives a Series object we call `row` and inside the function we call the `datetime.datetime` function and pass in the corresponding values from the row that can be used to make the `datetime` object."
   ]
  },
  {
   "cell_type": "code",
   "execution_count": null,
   "metadata": {},
   "outputs": [],
   "source": []
  },
  {
   "cell_type": "markdown",
   "metadata": {},
   "source": [
    "## Exercise 3: More Tidy Practice\n",
    "Consider the following billboard dataset described in the Tidy paper.  This dataset contains the weekly rank of songs from the moment they enter the Billboard Top 100 to the subsequent 75 weeks.  First load the data. You'll find it in the data directory here:  `../data/billboard.csv`.  Save the data with the name `billboard`. List the top 10 lines:"
   ]
  },
  {
   "cell_type": "code",
   "execution_count": null,
   "metadata": {},
   "outputs": [],
   "source": []
  },
  {
   "cell_type": "markdown",
   "metadata": {},
   "source": [
    "Do a quick review of the data\n",
    "+ List the columns.\n",
    "+ List the data types.\n",
    "+ Are there missing values?  Should we worry about missing values?\n",
    "+ Are there duplicates?  Should we worry about any duplcates?\n",
    "+ What fields are meant to be categorical?  And for those check the categories to make sure there is nothing unexpected there."
   ]
  },
  {
   "cell_type": "code",
   "execution_count": null,
   "metadata": {},
   "outputs": [],
   "source": []
  },
  {
   "cell_type": "code",
   "execution_count": null,
   "metadata": {},
   "outputs": [],
   "source": []
  },
  {
   "cell_type": "code",
   "execution_count": null,
   "metadata": {},
   "outputs": [],
   "source": []
  },
  {
   "cell_type": "code",
   "execution_count": null,
   "metadata": {},
   "outputs": [],
   "source": []
  },
  {
   "cell_type": "code",
   "execution_count": null,
   "metadata": {},
   "outputs": [],
   "source": []
  },
  {
   "cell_type": "markdown",
   "metadata": {},
   "source": [
    "What makes this data untidy?"
   ]
  },
  {
   "cell_type": "raw",
   "metadata": {},
   "source": [
    "1. variables are in the column headers: e.g. x1st.week\n",
    "2. this strcuture results in too many unecessary missing values."
   ]
  },
  {
   "cell_type": "markdown",
   "metadata": {},
   "source": [
    "Let's untidy this data into a variable named `billboard_tidy`"
   ]
  },
  {
   "cell_type": "code",
   "execution_count": null,
   "metadata": {},
   "outputs": [],
   "source": []
  },
  {
   "cell_type": "markdown",
   "metadata": {},
   "source": [
    "Perform the following:\n",
    "1. Remove columns with missing values\n",
    "2. convert the week to an actual number\n",
    "3. Convert the rank column to an integer"
   ]
  },
  {
   "cell_type": "code",
   "execution_count": null,
   "metadata": {},
   "outputs": [],
   "source": []
  },
  {
   "cell_type": "markdown",
   "metadata": {},
   "source": []
  },
  {
   "cell_type": "code",
   "execution_count": null,
   "metadata": {},
   "outputs": [],
   "source": []
  },
  {
   "cell_type": "markdown",
   "metadata": {},
   "source": [
    "Remove unwanted columns and sort by year, artist, track, week and rank"
   ]
  },
  {
   "cell_type": "code",
   "execution_count": null,
   "metadata": {},
   "outputs": [],
   "source": []
  }
 ],
 "metadata": {
  "kernelspec": {
   "display_name": "Python 3",
   "language": "python",
   "name": "python3"
  },
  "language_info": {
   "codemirror_mode": {
    "name": "ipython",
    "version": 3
   },
   "file_extension": ".py",
   "mimetype": "text/x-python",
   "name": "python",
   "nbconvert_exporter": "python",
   "pygments_lexer": "ipython3",
   "version": "3.7.4"
  }
 },
 "nbformat": 4,
 "nbformat_minor": 4
}
