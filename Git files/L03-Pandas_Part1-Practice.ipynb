{
 "cells": [
  {
   "cell_type": "markdown",
   "metadata": {},
   "source": [
    "# Lesson 3 Practice: Pandas Part 1\n",
    "\n",
    "Use this notebook to follow along with the lesson in the corresponding lesson notebook: [L03-Pandas_Part1-Lesson.ipynb](./L03-Pandas_Part1-Lesson.ipynb).  "
   ]
  },
  {
   "cell_type": "markdown",
   "metadata": {},
   "source": [
    "## Instructions\n",
    "Follow along with the teaching material in the lesson. Throughout the tutorial sections labeled as \"Tasks\" are interspersed and indicated with the icon: ![Task](http://icons.iconarchive.com/icons/sbstnblnd/plateau/16/Apps-gnome-info-icon.png). You should follow the instructions provided in these sections by performing them in the practice notebook.  When the tutorial is completed you can turn in the final practice notebook. For each task, use the cell below it to write and test your code.  You may add additional cells for any task as needed or desired.  "
   ]
  },
  {
   "cell_type": "markdown",
   "metadata": {},
   "source": [
    "## Task 1a: Setup\n",
    "\n",
    "+ `numpy` as `np`\n",
    "+ `pandas` as `pd`\n"
   ]
  },
  {
   "cell_type": "code",
   "execution_count": 1,
   "metadata": {},
   "outputs": [],
   "source": [
    "import numpy as np\n",
    "import pandas as pd"
   ]
  },
  {
   "cell_type": "markdown",
   "metadata": {},
   "source": [
    "## Task 2a Create a `pd.Series` object\n",
    "\n",
    "+ Create a series of your own design."
   ]
  },
  {
   "cell_type": "code",
   "execution_count": 3,
   "metadata": {},
   "outputs": [
    {
     "data": {
      "text/plain": [
       "0    1.0\n",
       "1    2.0\n",
       "2    3.0\n",
       "3    3.0\n",
       "4    4.5\n",
       "5    NaN\n",
       "dtype: float64"
      ]
     },
     "execution_count": 3,
     "metadata": {},
     "output_type": "execute_result"
    }
   ],
   "source": [
    "my_series = pd.Series([1,2,3,3,4.5,np.nan])\n",
    "my_series"
   ]
  },
  {
   "cell_type": "markdown",
   "metadata": {},
   "source": [
    "## Task 2b: Creating a DataFrame\n",
    "\n",
    "+ Create a pd.DataFrame object from a Python dictionary. Design the data as you like."
   ]
  },
  {
   "cell_type": "code",
   "execution_count": 6,
   "metadata": {},
   "outputs": [
    {
     "data": {
      "text/html": [
       "<div>\n",
       "<style scoped>\n",
       "    .dataframe tbody tr th:only-of-type {\n",
       "        vertical-align: middle;\n",
       "    }\n",
       "\n",
       "    .dataframe tbody tr th {\n",
       "        vertical-align: top;\n",
       "    }\n",
       "\n",
       "    .dataframe thead th {\n",
       "        text-align: right;\n",
       "    }\n",
       "</style>\n",
       "<table border=\"1\" class=\"dataframe\">\n",
       "  <thead>\n",
       "    <tr style=\"text-align: right;\">\n",
       "      <th></th>\n",
       "      <th>0</th>\n",
       "      <th>1</th>\n",
       "      <th>2</th>\n",
       "      <th>3</th>\n",
       "      <th>4</th>\n",
       "    </tr>\n",
       "  </thead>\n",
       "  <tbody>\n",
       "    <tr>\n",
       "      <td>0</td>\n",
       "      <td>3.737973</td>\n",
       "      <td>1.844696</td>\n",
       "      <td>0.809058</td>\n",
       "      <td>4.583066</td>\n",
       "      <td>3.249049</td>\n",
       "    </tr>\n",
       "    <tr>\n",
       "      <td>1</td>\n",
       "      <td>0.069999</td>\n",
       "      <td>3.175255</td>\n",
       "      <td>4.439225</td>\n",
       "      <td>2.048924</td>\n",
       "      <td>2.199276</td>\n",
       "    </tr>\n",
       "    <tr>\n",
       "      <td>2</td>\n",
       "      <td>4.883604</td>\n",
       "      <td>3.450487</td>\n",
       "      <td>2.980181</td>\n",
       "      <td>2.532326</td>\n",
       "      <td>4.274959</td>\n",
       "    </tr>\n",
       "    <tr>\n",
       "      <td>3</td>\n",
       "      <td>1.552431</td>\n",
       "      <td>0.884076</td>\n",
       "      <td>0.200723</td>\n",
       "      <td>2.633220</td>\n",
       "      <td>4.141591</td>\n",
       "    </tr>\n",
       "    <tr>\n",
       "      <td>4</td>\n",
       "      <td>2.578198</td>\n",
       "      <td>2.796668</td>\n",
       "      <td>0.012888</td>\n",
       "      <td>0.774922</td>\n",
       "      <td>0.578645</td>\n",
       "    </tr>\n",
       "  </tbody>\n",
       "</table>\n",
       "</div>"
      ],
      "text/plain": [
       "          0         1         2         3         4\n",
       "0  3.737973  1.844696  0.809058  4.583066  3.249049\n",
       "1  0.069999  3.175255  4.439225  2.048924  2.199276\n",
       "2  4.883604  3.450487  2.980181  2.532326  4.274959\n",
       "3  1.552431  0.884076  0.200723  2.633220  4.141591\n",
       "4  2.578198  2.796668  0.012888  0.774922  0.578645"
      ]
     },
     "execution_count": 6,
     "metadata": {},
     "output_type": "execute_result"
    }
   ],
   "source": [
    "my_df = pd.DataFrame(5*np.random.random((5,5)))\n",
    "my_df"
   ]
  },
  {
   "cell_type": "markdown",
   "metadata": {},
   "source": [
    "## Task 2c: Create DataFrame with labels\n",
    "\n",
    "+ Create a 10x5 dataframe of random numeric integers that follow a [Guassian (normal) Distribution](https://docs.scipy.org/doc/numpy-1.15.0/reference/generated/numpy.random.normal.html). \n",
    "  + Center the distrubtion at 0.85.\n",
    "  + We will use these values as assumed grades for a class of students\n",
    "+ Adjust the row indexes to be the names of hypothetical students.\n",
    "+ Adjust the columsn to be the names of hypothetical projects, homework, exam names, etc."
   ]
  },
  {
   "cell_type": "code",
   "execution_count": 14,
   "metadata": {},
   "outputs": [
    {
     "data": {
      "text/html": [
       "<div>\n",
       "<style scoped>\n",
       "    .dataframe tbody tr th:only-of-type {\n",
       "        vertical-align: middle;\n",
       "    }\n",
       "\n",
       "    .dataframe tbody tr th {\n",
       "        vertical-align: top;\n",
       "    }\n",
       "\n",
       "    .dataframe thead th {\n",
       "        text-align: right;\n",
       "    }\n",
       "</style>\n",
       "<table border=\"1\" class=\"dataframe\">\n",
       "  <thead>\n",
       "    <tr style=\"text-align: right;\">\n",
       "      <th></th>\n",
       "      <th>Projects</th>\n",
       "      <th>Homework</th>\n",
       "      <th>Exam 1</th>\n",
       "      <th>Exam 2</th>\n",
       "      <th>Exam 3</th>\n",
       "    </tr>\n",
       "  </thead>\n",
       "  <tbody>\n",
       "    <tr>\n",
       "      <td>Joe</td>\n",
       "      <td>0.788378</td>\n",
       "      <td>0.893422</td>\n",
       "      <td>0.789278</td>\n",
       "      <td>0.913944</td>\n",
       "      <td>0.822258</td>\n",
       "    </tr>\n",
       "    <tr>\n",
       "      <td>Sam</td>\n",
       "      <td>0.800039</td>\n",
       "      <td>0.857451</td>\n",
       "      <td>0.946886</td>\n",
       "      <td>0.831507</td>\n",
       "      <td>0.860384</td>\n",
       "    </tr>\n",
       "    <tr>\n",
       "      <td>Stephen</td>\n",
       "      <td>0.909926</td>\n",
       "      <td>0.801938</td>\n",
       "      <td>0.845777</td>\n",
       "      <td>0.778731</td>\n",
       "      <td>0.864469</td>\n",
       "    </tr>\n",
       "    <tr>\n",
       "      <td>James</td>\n",
       "      <td>0.862680</td>\n",
       "      <td>0.718900</td>\n",
       "      <td>0.843648</td>\n",
       "      <td>0.902559</td>\n",
       "      <td>0.882061</td>\n",
       "    </tr>\n",
       "    <tr>\n",
       "      <td>Phil</td>\n",
       "      <td>0.932796</td>\n",
       "      <td>0.777095</td>\n",
       "      <td>0.784860</td>\n",
       "      <td>0.909119</td>\n",
       "      <td>0.771161</td>\n",
       "    </tr>\n",
       "    <tr>\n",
       "      <td>Dan</td>\n",
       "      <td>0.881699</td>\n",
       "      <td>0.882439</td>\n",
       "      <td>0.820497</td>\n",
       "      <td>0.863950</td>\n",
       "      <td>0.801662</td>\n",
       "    </tr>\n",
       "    <tr>\n",
       "      <td>Jill</td>\n",
       "      <td>0.916421</td>\n",
       "      <td>0.915973</td>\n",
       "      <td>0.997954</td>\n",
       "      <td>0.921714</td>\n",
       "      <td>0.786278</td>\n",
       "    </tr>\n",
       "    <tr>\n",
       "      <td>Janet</td>\n",
       "      <td>0.807055</td>\n",
       "      <td>0.865247</td>\n",
       "      <td>0.750283</td>\n",
       "      <td>0.894781</td>\n",
       "      <td>0.810678</td>\n",
       "    </tr>\n",
       "    <tr>\n",
       "      <td>Sara</td>\n",
       "      <td>0.800602</td>\n",
       "      <td>0.903505</td>\n",
       "      <td>0.885027</td>\n",
       "      <td>0.855224</td>\n",
       "      <td>0.849440</td>\n",
       "    </tr>\n",
       "    <tr>\n",
       "      <td>Scarlet</td>\n",
       "      <td>0.779394</td>\n",
       "      <td>0.848586</td>\n",
       "      <td>0.815495</td>\n",
       "      <td>0.829158</td>\n",
       "      <td>0.805316</td>\n",
       "    </tr>\n",
       "  </tbody>\n",
       "</table>\n",
       "</div>"
      ],
      "text/plain": [
       "         Projects  Homework    Exam 1    Exam 2    Exam 3\n",
       "Joe      0.788378  0.893422  0.789278  0.913944  0.822258\n",
       "Sam      0.800039  0.857451  0.946886  0.831507  0.860384\n",
       "Stephen  0.909926  0.801938  0.845777  0.778731  0.864469\n",
       "James    0.862680  0.718900  0.843648  0.902559  0.882061\n",
       "Phil     0.932796  0.777095  0.784860  0.909119  0.771161\n",
       "Dan      0.881699  0.882439  0.820497  0.863950  0.801662\n",
       "Jill     0.916421  0.915973  0.997954  0.921714  0.786278\n",
       "Janet    0.807055  0.865247  0.750283  0.894781  0.810678\n",
       "Sara     0.800602  0.903505  0.885027  0.855224  0.849440\n",
       "Scarlet  0.779394  0.848586  0.815495  0.829158  0.805316"
      ]
     },
     "execution_count": 14,
     "metadata": {},
     "output_type": "execute_result"
    }
   ],
   "source": [
    "col_names = np.array(['Projects', 'Homework', 'Exam 1', 'Exam 2', 'Exam 3'])\n",
    "row_names = np.array(['Joe', 'Sam', 'Stephen', 'James', 'Phil', 'Dan', 'Jill', 'Janet', 'Sara', 'Scarlet'])\n",
    "df_1 = pd.DataFrame(np.random.normal(0.85, scale = 0.05, size =(10,5)), index = row_names, columns = col_names)\n",
    "df_1"
   ]
  },
  {
   "cell_type": "markdown",
   "metadata": {},
   "source": [
    "## Task 3a: Import the iris.csv file\n",
    "\n",
    "+ Import the iris dataset.\n",
    "+ Take a look at the `pd.read_csv` online documentation. Write example code in a Markup cell for how you would import this file if it were tab-delimited."
   ]
  },
  {
   "cell_type": "code",
   "execution_count": 16,
   "metadata": {},
   "outputs": [
    {
     "data": {
      "text/html": [
       "<div>\n",
       "<style scoped>\n",
       "    .dataframe tbody tr th:only-of-type {\n",
       "        vertical-align: middle;\n",
       "    }\n",
       "\n",
       "    .dataframe tbody tr th {\n",
       "        vertical-align: top;\n",
       "    }\n",
       "\n",
       "    .dataframe thead th {\n",
       "        text-align: right;\n",
       "    }\n",
       "</style>\n",
       "<table border=\"1\" class=\"dataframe\">\n",
       "  <thead>\n",
       "    <tr style=\"text-align: right;\">\n",
       "      <th></th>\n",
       "      <th>sepal_length</th>\n",
       "      <th>sepal_width</th>\n",
       "      <th>petal_length</th>\n",
       "      <th>petal_width</th>\n",
       "      <th>species</th>\n",
       "    </tr>\n",
       "  </thead>\n",
       "  <tbody>\n",
       "    <tr>\n",
       "      <td>0</td>\n",
       "      <td>5.1</td>\n",
       "      <td>3.5</td>\n",
       "      <td>1.4</td>\n",
       "      <td>0.2</td>\n",
       "      <td>setosa</td>\n",
       "    </tr>\n",
       "    <tr>\n",
       "      <td>1</td>\n",
       "      <td>4.9</td>\n",
       "      <td>3.0</td>\n",
       "      <td>1.4</td>\n",
       "      <td>0.2</td>\n",
       "      <td>setosa</td>\n",
       "    </tr>\n",
       "    <tr>\n",
       "      <td>2</td>\n",
       "      <td>4.7</td>\n",
       "      <td>3.2</td>\n",
       "      <td>1.3</td>\n",
       "      <td>0.2</td>\n",
       "      <td>setosa</td>\n",
       "    </tr>\n",
       "    <tr>\n",
       "      <td>3</td>\n",
       "      <td>4.6</td>\n",
       "      <td>3.1</td>\n",
       "      <td>1.5</td>\n",
       "      <td>0.2</td>\n",
       "      <td>setosa</td>\n",
       "    </tr>\n",
       "    <tr>\n",
       "      <td>4</td>\n",
       "      <td>5.0</td>\n",
       "      <td>3.6</td>\n",
       "      <td>1.4</td>\n",
       "      <td>0.2</td>\n",
       "      <td>setosa</td>\n",
       "    </tr>\n",
       "    <tr>\n",
       "      <td>...</td>\n",
       "      <td>...</td>\n",
       "      <td>...</td>\n",
       "      <td>...</td>\n",
       "      <td>...</td>\n",
       "      <td>...</td>\n",
       "    </tr>\n",
       "    <tr>\n",
       "      <td>145</td>\n",
       "      <td>6.7</td>\n",
       "      <td>3.0</td>\n",
       "      <td>5.2</td>\n",
       "      <td>2.3</td>\n",
       "      <td>virginica</td>\n",
       "    </tr>\n",
       "    <tr>\n",
       "      <td>146</td>\n",
       "      <td>6.3</td>\n",
       "      <td>2.5</td>\n",
       "      <td>5.0</td>\n",
       "      <td>1.9</td>\n",
       "      <td>virginica</td>\n",
       "    </tr>\n",
       "    <tr>\n",
       "      <td>147</td>\n",
       "      <td>6.5</td>\n",
       "      <td>3.0</td>\n",
       "      <td>5.2</td>\n",
       "      <td>2.0</td>\n",
       "      <td>virginica</td>\n",
       "    </tr>\n",
       "    <tr>\n",
       "      <td>148</td>\n",
       "      <td>6.2</td>\n",
       "      <td>3.4</td>\n",
       "      <td>5.4</td>\n",
       "      <td>2.3</td>\n",
       "      <td>virginica</td>\n",
       "    </tr>\n",
       "    <tr>\n",
       "      <td>149</td>\n",
       "      <td>5.9</td>\n",
       "      <td>3.0</td>\n",
       "      <td>5.1</td>\n",
       "      <td>1.8</td>\n",
       "      <td>virginica</td>\n",
       "    </tr>\n",
       "  </tbody>\n",
       "</table>\n",
       "<p>150 rows × 5 columns</p>\n",
       "</div>"
      ],
      "text/plain": [
       "     sepal_length  sepal_width  petal_length  petal_width    species\n",
       "0             5.1          3.5           1.4          0.2     setosa\n",
       "1             4.9          3.0           1.4          0.2     setosa\n",
       "2             4.7          3.2           1.3          0.2     setosa\n",
       "3             4.6          3.1           1.5          0.2     setosa\n",
       "4             5.0          3.6           1.4          0.2     setosa\n",
       "..            ...          ...           ...          ...        ...\n",
       "145           6.7          3.0           5.2          2.3  virginica\n",
       "146           6.3          2.5           5.0          1.9  virginica\n",
       "147           6.5          3.0           5.2          2.0  virginica\n",
       "148           6.2          3.4           5.4          2.3  virginica\n",
       "149           5.9          3.0           5.1          1.8  virginica\n",
       "\n",
       "[150 rows x 5 columns]"
      ]
     },
     "execution_count": 16,
     "metadata": {},
     "output_type": "execute_result"
    }
   ],
   "source": [
    "df_iris = pd.read_csv('data/iris.csv')\n",
    "df_iris"
   ]
  },
  {
   "cell_type": "markdown",
   "metadata": {},
   "source": [
    "df_iris = pd.read_csv('data/iris.csv', delimiter = '\\t')"
   ]
  },
  {
   "cell_type": "markdown",
   "metadata": {},
   "source": [
    "## Task 4a: Explore Data\n",
    "\n",
    " + Use `head`, `tail` and `sample` with the iris dataset.\n",
    " + Do the same with the dataset you created in task 2c."
   ]
  },
  {
   "cell_type": "code",
   "execution_count": null,
   "metadata": {},
   "outputs": [],
   "source": []
  },
  {
   "cell_type": "markdown",
   "metadata": {},
   "source": [
    "## Task 5a: Viewing columns and rows\n",
    "\n",
    "+ Display the columns and indexes of the iris dataset.\n",
    "+ Do the same with the dataset you created in Task 2c."
   ]
  },
  {
   "cell_type": "code",
   "execution_count": null,
   "metadata": {},
   "outputs": [],
   "source": []
  },
  {
   "cell_type": "markdown",
   "metadata": {},
   "source": [
    "## Task 5b: Get Values\n",
    "\n",
    "+ Check the version of `pandas` you have \n",
    "+ Use the appropriate method to convert the iris data to a dictionary.\n",
    "+ Do the same with the dataset you created in Task 2c.\n"
   ]
  },
  {
   "cell_type": "code",
   "execution_count": null,
   "metadata": {},
   "outputs": [],
   "source": []
  },
  {
   "cell_type": "markdown",
   "metadata": {},
   "source": [
    "## Task 5c: Using `loc`\n",
    "\n",
    "+ Use any iris dataframe to:\n",
    "  + Select a row slice with `loc`.\n",
    "  + Select a row and column slice with `loc`.\n",
    "  + Take a look at the [Pandas documentation for the `at` selector](https://pandas.pydata.org/pandas-docs/stable/reference/api/pandas.DataFrame.at.html). Use what you learn there to select a single item with Pandas `at` accessor."
   ]
  },
  {
   "cell_type": "code",
   "execution_count": null,
   "metadata": {},
   "outputs": [],
   "source": []
  },
  {
   "cell_type": "markdown",
   "metadata": {},
   "source": [
    "## Task 5d: Using `iloc`\n",
    "\n",
    "+ Use any iris dataframe to:    \n",
    "    + Select a row slice with `iloc`.\n",
    "    + Select a row and column slice with `iloc`.\n",
    "    + Take a look at the [Pandas documentation for the `iat` selector](https://pandas.pydata.org/pandas-docs/stable/reference/api/pandas.DataFrame.iat.html). Use what you learn there to select a single item with Pandas `iat` accessor.\n",
    "\n"
   ]
  },
  {
   "cell_type": "code",
   "execution_count": null,
   "metadata": {},
   "outputs": [],
   "source": []
  },
  {
   "cell_type": "markdown",
   "metadata": {},
   "source": [
    "## Task 5e: Boolean Indexing\n",
    "\n",
    "+ Create subsets of the iris dataset using boolean indexes that:\n",
    "    + Use one boolean operator.\n",
    "    + Use two boolean operators.\n",
    "\n"
   ]
  },
  {
   "cell_type": "code",
   "execution_count": null,
   "metadata": {},
   "outputs": [],
   "source": []
  }
 ],
 "metadata": {
  "kernelspec": {
   "display_name": "Python 3",
   "language": "python",
   "name": "python3"
  },
  "language_info": {
   "codemirror_mode": {
    "name": "ipython",
    "version": 3
   },
   "file_extension": ".py",
   "mimetype": "text/x-python",
   "name": "python",
   "nbconvert_exporter": "python",
   "pygments_lexer": "ipython3",
   "version": "3.7.4"
  }
 },
 "nbformat": 4,
 "nbformat_minor": 4
}
