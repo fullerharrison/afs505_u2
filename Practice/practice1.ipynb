{
 "cells": [
  {
   "cell_type": "markdown",
   "metadata": {},
   "source": [
    "# Lesson 1 Practice: NumPy Part 1\n",
    "Use this notebook to follow along with the lesson in the corresponding lesson notebook: [L01-Numpy_Part1-Lesson.ipynb](./L01-Numpy_Part1-Lesson.ipynb).  \n",
    "\n"
   ]
  },
  {
   "cell_type": "markdown",
   "metadata": {},
   "source": [
    "## Instructions\n",
    "Follow along with the teaching material in the lesson. Throughout the tutorial sections labeled as \"Tasks\" are interspersed and indicated with the icon: ![Task](http://icons.iconarchive.com/icons/sbstnblnd/plateau/16/Apps-gnome-info-icon.png). You should follow the instructions provided in these sections by performing them in the practice notebook.  When the tutorial is completed you can turn in the final practice notebook. For each task, use the cell below it to write and test your code.  You may add additional cells for any task as needed or desired.  "
   ]
  },
  {
   "cell_type": "markdown",
   "metadata": {},
   "source": [
    "## Task 1a: Setup\n",
    "\n",
    "In the practice notebook, import the following packages:\n",
    "+ `numpy` as `np`"
   ]
  },
  {
   "cell_type": "code",
   "execution_count": 1,
   "metadata": {},
   "outputs": [],
   "source": [
    "import numpy as np"
   ]
  },
  {
   "cell_type": "markdown",
   "metadata": {},
   "source": [
    "## Task 2a: Creating Arrays\n",
    "\n",
    "In the practice notebook, perform the following.  \n",
    "- Create a 1-dimensional numpy array and print it.\n",
    "- Create a 2-dimensional numpy array and print it.\n",
    "- Create a 3-dimensional numpy array and print it."
   ]
  },
  {
   "cell_type": "code",
   "execution_count": 2,
   "metadata": {},
   "outputs": [
    {
     "name": "stdout",
     "output_type": "stream",
     "text": [
      "[1 2 3]\n",
      "[[1 2 3]\n",
      " [1 2 3]]\n",
      "[[[1 2 3]\n",
      "  [4 5 6]]\n",
      "\n",
      " [[1 2 3]\n",
      "  [1 2 3]]]\n"
     ]
    }
   ],
   "source": [
    "one_d = np.array([1,2,3])\n",
    "two_d = np.array([[1,2,3],[1,2,3]])\n",
    "three_d = np.array([[[1,2,3],[4,5,6]],[[1,2,3],[1,2,3]]])\n",
    "\n",
    "print(one_d)\n",
    "print(two_d)\n",
    "print(three_d)"
   ]
  },
  {
   "cell_type": "markdown",
   "metadata": {},
   "source": [
    "## Task 3a: Accessing Array Attributes\n",
    "\n",
    "In the practice notebook, perform the following.\n",
    "\n",
    "- Create a NumPy array.\n",
    "- Write code that prints these attributes (one per line): `ndim`, `shape`, `size`, `dtype`, `itemsize`, `data`, `nbytes`.\n",
    "- Add a comment line, before each line describing what value the attribute returns. \n"
   ]
  },
  {
   "cell_type": "code",
   "execution_count": 3,
   "metadata": {},
   "outputs": [
    {
     "name": "stdout",
     "output_type": "stream",
     "text": [
      "3\n",
      "(2, 2, 3)\n",
      "12\n",
      "int64\n",
      "8\n",
      "<memory at 0x10a5b3d50>\n",
      "96\n"
     ]
    }
   ],
   "source": [
    "three_d = np.array([[[1,2,3],[4,5,6]],[[1,2,3],[1,2,3]]])\n",
    "# returns 3\n",
    "print(three_d.ndim)\n",
    "# returns sides\n",
    "print(three_d.shape)\n",
    "# returns number of values inside\n",
    "print(three_d.size)\n",
    "# returns 64 bit integer or data type\n",
    "print(three_d.dtype)\n",
    "# returns 8\n",
    "print(three_d.itemsize)\n",
    "# returns<memory at 0x109cba650>\n",
    "print(three_d.data)\n",
    "# returns 96\n",
    "print(three_d.nbytes)"
   ]
  },
  {
   "cell_type": "markdown",
   "metadata": {},
   "source": [
    "## Task 4a: Initializing Arrays\n",
    "\n",
    "In the practice notebook, perform the following.\n",
    "\n",
    "+ Create an initialized array by using these functions:  `ones`, `zeros`, `empty`, `full`, `arange`, `linspace` and `random.random`. Be sure to follow each array creation with a call to `print()` to display your newly created arrays. \n",
    "+ Add a comment above each function call describing what is being done.  "
   ]
  },
  {
   "cell_type": "code",
   "execution_count": 4,
   "metadata": {},
   "outputs": [
    {
     "name": "stdout",
     "output_type": "stream",
     "text": [
      "[1. 1. 1. 1. 1.]\n",
      "[0. 0. 0. 0. 0.]\n",
      "[4.e-323 0.e+000 0.e+000 0.e+000 0.e+000]\n",
      "[5 5 5 5 5]\n",
      "[0 1 2 3 4 5]\n",
      "[0.         0.12244898 0.24489796 0.36734694 0.48979592 0.6122449\n",
      " 0.73469388 0.85714286 0.97959184 1.10204082 1.2244898  1.34693878\n",
      " 1.46938776 1.59183673 1.71428571 1.83673469 1.95918367 2.08163265\n",
      " 2.20408163 2.32653061 2.44897959 2.57142857 2.69387755 2.81632653\n",
      " 2.93877551 3.06122449 3.18367347 3.30612245 3.42857143 3.55102041\n",
      " 3.67346939 3.79591837 3.91836735 4.04081633 4.16326531 4.28571429\n",
      " 4.40816327 4.53061224 4.65306122 4.7755102  4.89795918 5.02040816\n",
      " 5.14285714 5.26530612 5.3877551  5.51020408 5.63265306 5.75510204\n",
      " 5.87755102 6.        ]\n",
      "[[-9.49882806 -2.7823218  -0.34059194]\n",
      " [-1.26664506 -0.39498754 -7.69347262]\n",
      " [-3.25143318 -9.95132259 -4.45044179]]\n"
     ]
    }
   ],
   "source": [
    "one = np.ones(5)\n",
    "two = np.zeros(5)\n",
    "three = np.empty(5)\n",
    "four = np.full(5, 5)\n",
    "five = np.arange(0,6)\n",
    "six = np.linspace(0,6)\n",
    "seven = 10 * np.random.random_sample((3,3)) - 10\n",
    "\n",
    "# return a array of 1's with 5 elements, float\n",
    "print(one)\n",
    "# returns 5 element array as zero's, float\n",
    "print(two)\n",
    "#returns 5 element array as zero's, float\n",
    "print(three)\n",
    "# returns 5 element array of fives, integer\n",
    "print(four)\n",
    "# returns 6 element array of i+1 increment, integer\n",
    "print(five)\n",
    "# returns evenely spaced grid from 1 to 6, float\n",
    "print(six)\n",
    "# returns 3 x 3 grid of random numbers ranging from -10, 0\n",
    "print(seven)"
   ]
  },
  {
   "cell_type": "markdown",
   "metadata": {},
   "source": [
    "## Task 5a:  Broadcasting Arrays\n",
    "\n",
    "In the practice notebook, perform the following.\n",
    "\n",
    "+ Create two arrays of differing sizes but compatible with broadcasting.\n",
    "+ Perform addition, multiplication and subtraction.\n",
    "+ Create two additional arrays of differing size that do not meet the rules for broadcasting and try a mathematical operation.  "
   ]
  },
  {
   "cell_type": "code",
   "execution_count": 5,
   "metadata": {},
   "outputs": [
    {
     "name": "stdout",
     "output_type": "stream",
     "text": [
      "[[[3.66128813 5.9220628  3.76110942 4.41714153]\n",
      "  [3.66128813 5.9220628  3.76110942 4.41714153]\n",
      "  [3.66128813 5.9220628  3.76110942 4.41714153]\n",
      "  [3.66128813 5.9220628  3.76110942 4.41714153]]\n",
      "\n",
      " [[4.58264152 3.63378695 5.25510216 2.81720546]\n",
      "  [4.58264152 3.63378695 5.25510216 2.81720546]\n",
      "  [4.58264152 3.63378695 5.25510216 2.81720546]\n",
      "  [4.58264152 3.63378695 5.25510216 2.81720546]]\n",
      "\n",
      " [[3.52307155 3.2627178  3.80839771 5.72205553]\n",
      "  [3.52307155 3.2627178  3.80839771 5.72205553]\n",
      "  [3.52307155 3.2627178  3.80839771 5.72205553]\n",
      "  [3.52307155 3.2627178  3.80839771 5.72205553]]\n",
      "\n",
      " [[1.69656734 2.85465398 3.64368782 5.56917558]\n",
      "  [1.69656734 2.85465398 3.64368782 5.56917558]\n",
      "  [1.69656734 2.85465398 3.64368782 5.56917558]\n",
      "  [1.69656734 2.85465398 3.64368782 5.56917558]]]\n",
      "[[[-1.66128813 -3.9220628  -1.76110942 -2.41714153]\n",
      "  [-1.66128813 -3.9220628  -1.76110942 -2.41714153]\n",
      "  [-1.66128813 -3.9220628  -1.76110942 -2.41714153]\n",
      "  [-1.66128813 -3.9220628  -1.76110942 -2.41714153]]\n",
      "\n",
      " [[-2.58264152 -1.63378695 -3.25510216 -0.81720546]\n",
      "  [-2.58264152 -1.63378695 -3.25510216 -0.81720546]\n",
      "  [-2.58264152 -1.63378695 -3.25510216 -0.81720546]\n",
      "  [-2.58264152 -1.63378695 -3.25510216 -0.81720546]]\n",
      "\n",
      " [[-1.52307155 -1.2627178  -1.80839771 -3.72205553]\n",
      "  [-1.52307155 -1.2627178  -1.80839771 -3.72205553]\n",
      "  [-1.52307155 -1.2627178  -1.80839771 -3.72205553]\n",
      "  [-1.52307155 -1.2627178  -1.80839771 -3.72205553]]\n",
      "\n",
      " [[ 0.30343266 -0.85465398 -1.64368782 -3.56917558]\n",
      "  [ 0.30343266 -0.85465398 -1.64368782 -3.56917558]\n",
      "  [ 0.30343266 -0.85465398 -1.64368782 -3.56917558]\n",
      "  [ 0.30343266 -0.85465398 -1.64368782 -3.56917558]]]\n",
      "[[[2.66128813 4.9220628  2.76110942 3.41714153]\n",
      "  [2.66128813 4.9220628  2.76110942 3.41714153]\n",
      "  [2.66128813 4.9220628  2.76110942 3.41714153]\n",
      "  [2.66128813 4.9220628  2.76110942 3.41714153]]\n",
      "\n",
      " [[3.58264152 2.63378695 4.25510216 1.81720546]\n",
      "  [3.58264152 2.63378695 4.25510216 1.81720546]\n",
      "  [3.58264152 2.63378695 4.25510216 1.81720546]\n",
      "  [3.58264152 2.63378695 4.25510216 1.81720546]]\n",
      "\n",
      " [[2.52307155 2.2627178  2.80839771 4.72205553]\n",
      "  [2.52307155 2.2627178  2.80839771 4.72205553]\n",
      "  [2.52307155 2.2627178  2.80839771 4.72205553]\n",
      "  [2.52307155 2.2627178  2.80839771 4.72205553]]\n",
      "\n",
      " [[0.69656734 1.85465398 2.64368782 4.56917558]\n",
      "  [0.69656734 1.85465398 2.64368782 4.56917558]\n",
      "  [0.69656734 1.85465398 2.64368782 4.56917558]\n",
      "  [0.69656734 1.85465398 2.64368782 4.56917558]]]\n",
      "[[[1.06035232e+01 1.57182287e+01 2.87644597e+01 1.20963330e+01]\n",
      "  [7.41491321e+00 2.35579265e+01 1.54096453e+01 1.94078988e+01]\n",
      "  [2.64931575e+00 3.36133089e+01 1.64288740e+01 3.30864002e+01]\n",
      "  [1.13217922e+01 4.49068538e+00 1.86330283e+01 8.87979961e+00]\n",
      "  [8.05699520e+00 2.63097838e+01 1.97661433e+01 9.09299025e+00]\n",
      "  [6.36596569e+00 7.39430987e+00 2.69362627e+01 1.15394962e+01]\n",
      "  [1.13916487e+01 2.41680153e+01 2.60926425e+01 3.15641694e-01]\n",
      "  [1.02055407e+01 1.08085700e+00 3.00407395e+01 2.34161936e+01]\n",
      "  [1.21443043e+01 3.04187019e+01 1.09659183e+01 2.81473863e+01]\n",
      "  [1.45579168e+01 1.53739260e+00 2.37347075e+01 2.46372155e+01]]\n",
      "\n",
      " [[6.01451108e+00 1.77645390e+01 2.95014594e+01 1.56577783e+01]\n",
      "  [4.20587353e+00 2.66248642e+01 1.58044695e+01 2.51220414e+01]\n",
      "  [1.50274004e+00 3.79893275e+01 1.68498128e+01 4.28278157e+01]\n",
      "  [6.42192627e+00 5.07531460e+00 1.91104417e+01 1.14942218e+01]\n",
      "  [4.57007410e+00 2.97349778e+01 2.02725892e+01 1.17701808e+01]\n",
      "  [3.61089143e+00 8.35695350e+00 2.76264207e+01 1.49369957e+01]\n",
      "  [6.46155014e+00 2.73143787e+01 2.67611852e+01 4.08574044e-01]\n",
      "  [5.78876817e+00 1.22157062e+00 3.08104400e+01 3.03104725e+01]\n",
      "  [6.88847012e+00 3.43788239e+01 1.12468859e+01 3.64346398e+01]\n",
      "  [8.25751498e+00 1.73754125e+00 2.43428355e+01 3.18909920e+01]]\n",
      "\n",
      " [[3.25332145e+01 1.42617061e+00 2.80647234e+01 3.89562830e+00]\n",
      "  [2.27500763e+01 2.13749417e+00 1.50347838e+01 6.25032067e+00]\n",
      "  [8.12850180e+00 3.04985466e+00 1.60292183e+01 1.06554869e+01]\n",
      "  [3.47369724e+01 4.07455802e-01 1.81797535e+01 2.85974260e+00]\n",
      "  [2.47200810e+01 2.38717994e+00 1.92853038e+01 2.92840072e+00]\n",
      "  [1.95317465e+01 6.70911944e-01 2.62810000e+01 3.71629882e+00]\n",
      "  [3.49513027e+01 2.19284969e+00 2.54579019e+01 1.01652519e-01]\n",
      "  [3.13121440e+01 9.80699870e-02 2.93099559e+01 7.54119340e+00]\n",
      "  [3.72605642e+01 2.75999664e+00 1.06991568e+01 9.06487568e+00]\n",
      "  [4.46658927e+01 1.39493079e-01 2.31573271e+01 7.93442394e+00]]\n",
      "\n",
      " [[2.48544684e+01 1.57159251e+01 2.72440664e+01 1.25825327e+00]\n",
      "  [1.73804237e+01 2.35544739e+01 1.45951429e+01 2.01879794e+00]\n",
      "  [6.20994864e+00 3.36083825e+01 1.55604986e+01 3.44162741e+00]\n",
      "  [2.65380779e+01 4.49002723e+00 1.76481487e+01 9.23671405e-01]\n",
      "  [1.88854524e+01 2.63059278e+01 1.87213710e+01 9.45847367e-01]\n",
      "  [1.49217095e+01 7.39322617e+00 2.55125019e+01 1.20033144e+00]\n",
      "  [2.67018203e+01 2.41644733e+01 2.47134726e+01 3.28328589e-02]\n",
      "  [2.39216046e+01 1.08069859e+00 2.84528864e+01 2.43573834e+00]\n",
      "  [2.84660317e+01 3.04142437e+01 1.03862965e+01 2.92787416e+00]\n",
      "  [3.41234961e+01 1.53716728e+00 2.24801702e+01 2.56274831e+00]]\n",
      "\n",
      " [[2.89335892e+01 4.74749424e+00 3.26976326e+01 3.65135166e+00]\n",
      "  [2.02329026e+01 7.11537682e+00 1.75167177e+01 5.85839228e+00]\n",
      "  [7.22912676e+00 1.01524792e+01 1.86753129e+01 9.98733108e+00]\n",
      "  [3.08935131e+01 1.35635531e+00 2.11808572e+01 2.68042151e+00]\n",
      "  [2.19849369e+01 7.94654087e+00 2.24689112e+01 2.74477440e+00]\n",
      "  [1.73706637e+01 2.23335874e+00 3.06194530e+01 3.48326709e+00]\n",
      "  [3.10841289e+01 7.29964651e+00 2.96604784e+01 9.52783647e-02]\n",
      "  [2.78476235e+01 3.26459328e-01 3.41484274e+01 7.06832041e+00]\n",
      "  [3.31378831e+01 9.18758814e+00 1.24653678e+01 8.49645970e+00]\n",
      "  [3.97238517e+01 4.64350189e-01 2.69801259e+01 7.43689331e+00]]\n",
      "\n",
      " [[1.09999588e+01 8.65994440e+00 3.89314404e+01 5.29799042e+00]\n",
      "  [7.69213572e+00 1.29792191e+01 2.08562821e+01 8.50033331e+00]\n",
      "  [2.74836613e+00 1.85192232e+01 2.22357637e+01 1.44912869e+01]\n",
      "  [1.17450818e+01 2.47413919e+00 2.52189904e+01 3.88920290e+00]\n",
      "  [8.35822334e+00 1.44953524e+01 2.67526120e+01 3.98257681e+00]\n",
      "  [6.60397104e+00 4.07388857e+00 3.64570556e+01 5.05410527e+00]\n",
      "  [1.18175500e+01 1.33153470e+01 3.53152524e+01 1.38245754e-01]\n",
      "  [1.05870969e+01 5.95497223e-01 4.06588294e+01 1.02558990e+01]\n",
      "  [1.25983453e+01 1.67591572e+01 1.48418917e+01 1.23280818e+01]\n",
      "  [1.51021959e+01 8.47025109e-01 3.21238904e+01 1.07906861e+01]]\n",
      "\n",
      " [[2.57531159e+01 1.00717775e+01 1.36925978e+01 8.38400999e+00]\n",
      "  [1.80088368e+01 1.50952246e+01 7.33537419e+00 1.34516814e+01]\n",
      "  [6.43447787e+00 2.15384171e+01 7.82055238e+00 2.29322978e+01]\n",
      "  [2.74975986e+01 2.87749877e+00 8.86978464e+00 6.15461965e+00]\n",
      "  [1.95682819e+01 1.68585336e+01 9.40917552e+00 6.30238282e+00]\n",
      "  [1.54612244e+01 4.73805572e+00 1.28223306e+01 7.99806450e+00]\n",
      "  [2.76672613e+01 1.54861515e+01 1.24207464e+01 2.18772344e-01]\n",
      "  [2.47865231e+01 6.92581294e-01 1.43001387e+01 1.62298443e+01]\n",
      "  [2.94952602e+01 1.94914071e+01 5.22004971e+00 1.95090502e+01]\n",
      "  [3.53572780e+01 9.85115839e-01 1.12983107e+01 1.70761388e+01]]]\n"
     ]
    }
   ],
   "source": [
    "array_one = np.ones((4,4))\n",
    "array_two = 5 * np.random.random((4,1,4))\n",
    "array_three = 10 * np.random.random((7,1,4))\n",
    "array_four = 5 * np.random.random((10,4))\n",
    "\n",
    "result_one = array_one + array_two\n",
    "result_two = array_one - array_two\n",
    "result_three = array_one * array_two\n",
    "result_four =  array_three * array_four\n",
    "\n",
    "print(result_one)\n",
    "print(result_two)\n",
    "print(result_three)\n",
    "print(result_four)"
   ]
  },
  {
   "cell_type": "markdown",
   "metadata": {},
   "source": [
    "## Task 6a: Math/Stats Aggregate Functions\n",
    "\n",
    "In the practice notebook, perform the following.\n",
    "\n",
    "+ Create three to five arrays\n",
    "+ Experiment with each of the aggregation functions: `sum`, `minimum`, `maximum`, `cumsum`, `mean`, `np.corrcoef`, `np.std`, `np.var`. \n",
    "+ For each function call, add a comment line above it that describes what it does.  \n",
    "```\n"
   ]
  },
  {
   "cell_type": "code",
   "execution_count": 6,
   "metadata": {},
   "outputs": [
    {
     "name": "stdout",
     "output_type": "stream",
     "text": [
      "15\n",
      "[[0. 1. 1. 1. 1. 1.]\n",
      " [0. 1. 1. 1. 1. 1.]\n",
      " [0. 1. 1. 1. 1. 1.]\n",
      " [0. 1. 1. 1. 1. 1.]\n",
      " [0. 1. 1. 1. 1. 1.]\n",
      " [0. 1. 1. 1. 1. 1.]]\n",
      "[[[1. 1. 1. 1. 1. 1.]\n",
      "  [1. 1. 1. 1. 1. 1.]\n",
      "  [1. 1. 1. 1. 1. 1.]\n",
      "  [1. 1. 1. 1. 1. 1.]\n",
      "  [1. 1. 1. 1. 1. 1.]\n",
      "  [1. 1. 1. 1. 1. 1.]]\n",
      "\n",
      " [[1. 1. 1. 1. 1. 1.]\n",
      "  [1. 1. 1. 1. 1. 1.]\n",
      "  [1. 1. 1. 1. 1. 1.]\n",
      "  [1. 1. 1. 1. 1. 1.]\n",
      "  [1. 1. 1. 1. 1. 1.]\n",
      "  [1. 1. 1. 1. 1. 1.]]]\n",
      "[[[1. 1. 1. 1.]\n",
      "  [2. 2. 2. 2.]\n",
      "  [3. 3. 3. 3.]\n",
      "  [4. 4. 4. 4.]\n",
      "  [5. 5. 5. 5.]\n",
      "  [6. 6. 6. 6.]]\n",
      "\n",
      " [[1. 1. 1. 1.]\n",
      "  [2. 2. 2. 2.]\n",
      "  [3. 3. 3. 3.]\n",
      "  [4. 4. 4. 4.]\n",
      "  [5. 5. 5. 5.]\n",
      "  [6. 6. 6. 6.]]]\n",
      "2.5\n",
      "1.0\n",
      "1.707825127659933\n",
      "0.0\n"
     ]
    }
   ],
   "source": [
    "df_1 = np.arange(0,6)\n",
    "df_2 = np.ones((6,6))\n",
    "df_3 = np.ones((2,6,4))\n",
    "df_4 = np.random.random((2,6,6))\n",
    "# returns sum of 0+1+2+3+4+5\n",
    "print(np.sum(df_1))\n",
    "# return 4x6x6\n",
    "print(np.minimum(df_2,df_1))\n",
    "# returns 12x6\n",
    "print(np.maximum(df_2, df_4))\n",
    "# returns the sum of the arrays present\n",
    "print(np.cumsum(df_3,1))\n",
    "# returns (0+1+2+3+4+5)/6\n",
    "print(np.mean(df_1))\n",
    "# returns correlation of 1 for 1increase in array\n",
    "print(np.corrcoef(df_1))\n",
    "# calculates standard deviation of 1x6\n",
    "print(np.std(df_1))\n",
    "# returns variance of two identical arrays\n",
    "print(np.var(df_2))"
   ]
  },
  {
   "cell_type": "markdown",
   "metadata": {},
   "source": [
    "## Task 6b: Logical Aggregate Functions\n",
    "\n",
    "In the practice notebook, perform the following.\n",
    "\n",
    "+ Create two arrays containing boolean values.\n",
    "+ Experiment with each of the aggregation functions: `logical_and`, `logical_or`, `logical_not`. \n",
    "+ For each function call, add a comment line above it that describes what it does.  \n",
    "```"
   ]
  },
  {
   "cell_type": "code",
   "execution_count": 10,
   "metadata": {},
   "outputs": [
    {
     "name": "stdout",
     "output_type": "stream",
     "text": [
      "[ True False  True False]\n",
      "[ True False  True False]\n",
      "[False  True False  True]\n"
     ]
    }
   ],
   "source": [
    "a = [True, False, True, False]\n",
    "b = [True, False, True, False]\n",
    "# returns the boolean expression of if each element of a or b is satisfied \n",
    "print(np.logical_or(a,b))\n",
    "#  Returns the boolean expression if both elements in array a and b is satisfied\n",
    "print(np.logical_and(a,b))\n",
    "# returns the compliment expression elements in array\n",
    "print(np.logical_not(a))"
   ]
  },
  {
   "cell_type": "code",
   "execution_count": null,
   "metadata": {},
   "outputs": [],
   "source": []
  }
 ],
 "metadata": {
  "kernelspec": {
   "display_name": "Python 3",
   "language": "python",
   "name": "python3"
  },
  "language_info": {
   "codemirror_mode": {
    "name": "ipython",
    "version": 3
   },
   "file_extension": ".py",
   "mimetype": "text/x-python",
   "name": "python",
   "nbconvert_exporter": "python",
   "pygments_lexer": "ipython3",
   "version": "3.7.4"
  }
 },
 "nbformat": 4,
 "nbformat_minor": 4
}
