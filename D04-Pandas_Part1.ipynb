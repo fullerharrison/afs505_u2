{
 "cells": [
  {
   "cell_type": "markdown",
   "metadata": {},
   "source": [
    "# Lesson 3 Class Exercises: Pandas Part 1"
   ]
  },
  {
   "cell_type": "markdown",
   "metadata": {},
   "source": [
    "## Reminder\n",
    "The first checkin-in of the project is due next Tueday.  After today, you should have everything you need to know to accomplish that first part. "
   ]
  },
  {
   "cell_type": "markdown",
   "metadata": {},
   "source": [
    "## Get Started\n",
    "Import the Numpy and Pandas packages"
   ]
  },
  {
   "cell_type": "code",
   "execution_count": 4,
   "metadata": {},
   "outputs": [],
   "source": [
    "import numpy as np\n",
    "import pandas as pd\n"
   ]
  },
  {
   "cell_type": "markdown",
   "metadata": {},
   "source": [
    "## Exercise 1: Import Iris Data\n",
    "Import the Iris dataset made available to you in the last class period for the Numpy part2 exercises. Save it to a variable naemd `iris`. Print the first 5 rows and the dimensions to ensure it was read in properly."
   ]
  },
  {
   "cell_type": "code",
   "execution_count": 10,
   "metadata": {},
   "outputs": [
    {
     "data": {
      "text/plain": [
       "(150, 5)"
      ]
     },
     "execution_count": 10,
     "metadata": {},
     "output_type": "execute_result"
    }
   ],
   "source": [
    "df_iris = pd.read_csv('iris.csv')\n",
    "df_iris.head() # .head() is function\n",
    "df_iris.shape #.shape is an attribute"
   ]
  },
  {
   "cell_type": "markdown",
   "metadata": {},
   "source": [
    "Notice how much easier this was to import compared to the Numpy `genfromtxt`. We did not have to skip the headers, we did not have to specify the data type and we can have mixed data types in the same matrix."
   ]
  },
  {
   "cell_type": "markdown",
   "metadata": {},
   "source": [
    "## Exercise 2: Import Legislators Data\n",
    "For portions of this notebook we will use a public dataset that contains all of the current legistators of the United States Congress. This dataset can be found [here](https://github.com/unitedstates/congress-legislators).  \n",
    "\n",
    "Import the data directly from this URL:  https://theunitedstates.io/congress-legislators/legislators-current.csv\n",
    "\n",
    "Save the data in a variable named `legistators`. Print the first 5 lines, and the dimensions."
   ]
  },
  {
   "cell_type": "code",
   "execution_count": 13,
   "metadata": {},
   "outputs": [
    {
     "data": {
      "text/html": [
       "<div>\n",
       "<style scoped>\n",
       "    .dataframe tbody tr th:only-of-type {\n",
       "        vertical-align: middle;\n",
       "    }\n",
       "\n",
       "    .dataframe tbody tr th {\n",
       "        vertical-align: top;\n",
       "    }\n",
       "\n",
       "    .dataframe thead th {\n",
       "        text-align: right;\n",
       "    }\n",
       "</style>\n",
       "<table border=\"1\" class=\"dataframe\">\n",
       "  <thead>\n",
       "    <tr style=\"text-align: right;\">\n",
       "      <th></th>\n",
       "      <th>last_name</th>\n",
       "      <th>first_name</th>\n",
       "      <th>middle_name</th>\n",
       "      <th>suffix</th>\n",
       "      <th>nickname</th>\n",
       "      <th>full_name</th>\n",
       "      <th>birthday</th>\n",
       "      <th>gender</th>\n",
       "      <th>type</th>\n",
       "      <th>state</th>\n",
       "      <th>...</th>\n",
       "      <th>opensecrets_id</th>\n",
       "      <th>lis_id</th>\n",
       "      <th>fec_ids</th>\n",
       "      <th>cspan_id</th>\n",
       "      <th>govtrack_id</th>\n",
       "      <th>votesmart_id</th>\n",
       "      <th>ballotpedia_id</th>\n",
       "      <th>washington_post_id</th>\n",
       "      <th>icpsr_id</th>\n",
       "      <th>wikipedia_id</th>\n",
       "    </tr>\n",
       "  </thead>\n",
       "  <tbody>\n",
       "    <tr>\n",
       "      <td>0</td>\n",
       "      <td>Brown</td>\n",
       "      <td>Sherrod</td>\n",
       "      <td>NaN</td>\n",
       "      <td>NaN</td>\n",
       "      <td>NaN</td>\n",
       "      <td>Sherrod Brown</td>\n",
       "      <td>1952-11-09</td>\n",
       "      <td>M</td>\n",
       "      <td>sen</td>\n",
       "      <td>OH</td>\n",
       "      <td>...</td>\n",
       "      <td>N00003535</td>\n",
       "      <td>S307</td>\n",
       "      <td>H2OH13033,S6OH00163</td>\n",
       "      <td>5051.0</td>\n",
       "      <td>400050</td>\n",
       "      <td>27018.0</td>\n",
       "      <td>Sherrod Brown</td>\n",
       "      <td>NaN</td>\n",
       "      <td>29389.0</td>\n",
       "      <td>Sherrod Brown</td>\n",
       "    </tr>\n",
       "    <tr>\n",
       "      <td>1</td>\n",
       "      <td>Cantwell</td>\n",
       "      <td>Maria</td>\n",
       "      <td>NaN</td>\n",
       "      <td>NaN</td>\n",
       "      <td>NaN</td>\n",
       "      <td>Maria Cantwell</td>\n",
       "      <td>1958-10-13</td>\n",
       "      <td>F</td>\n",
       "      <td>sen</td>\n",
       "      <td>WA</td>\n",
       "      <td>...</td>\n",
       "      <td>N00007836</td>\n",
       "      <td>S275</td>\n",
       "      <td>S8WA00194,H2WA01054</td>\n",
       "      <td>26137.0</td>\n",
       "      <td>300018</td>\n",
       "      <td>27122.0</td>\n",
       "      <td>Maria Cantwell</td>\n",
       "      <td>NaN</td>\n",
       "      <td>39310.0</td>\n",
       "      <td>Maria Cantwell</td>\n",
       "    </tr>\n",
       "    <tr>\n",
       "      <td>2</td>\n",
       "      <td>Cardin</td>\n",
       "      <td>Benjamin</td>\n",
       "      <td>L.</td>\n",
       "      <td>NaN</td>\n",
       "      <td>NaN</td>\n",
       "      <td>Benjamin L. Cardin</td>\n",
       "      <td>1943-10-05</td>\n",
       "      <td>M</td>\n",
       "      <td>sen</td>\n",
       "      <td>MD</td>\n",
       "      <td>...</td>\n",
       "      <td>N00001955</td>\n",
       "      <td>S308</td>\n",
       "      <td>H6MD03177,S6MD03177</td>\n",
       "      <td>4004.0</td>\n",
       "      <td>400064</td>\n",
       "      <td>26888.0</td>\n",
       "      <td>Ben Cardin</td>\n",
       "      <td>NaN</td>\n",
       "      <td>15408.0</td>\n",
       "      <td>Ben Cardin</td>\n",
       "    </tr>\n",
       "    <tr>\n",
       "      <td>3</td>\n",
       "      <td>Carper</td>\n",
       "      <td>Thomas</td>\n",
       "      <td>Richard</td>\n",
       "      <td>NaN</td>\n",
       "      <td>NaN</td>\n",
       "      <td>Thomas R. Carper</td>\n",
       "      <td>1947-01-23</td>\n",
       "      <td>M</td>\n",
       "      <td>sen</td>\n",
       "      <td>DE</td>\n",
       "      <td>...</td>\n",
       "      <td>N00012508</td>\n",
       "      <td>S277</td>\n",
       "      <td>S8DE00079</td>\n",
       "      <td>663.0</td>\n",
       "      <td>300019</td>\n",
       "      <td>22421.0</td>\n",
       "      <td>Tom Carper</td>\n",
       "      <td>NaN</td>\n",
       "      <td>15015.0</td>\n",
       "      <td>Tom Carper</td>\n",
       "    </tr>\n",
       "    <tr>\n",
       "      <td>4</td>\n",
       "      <td>Casey</td>\n",
       "      <td>Robert</td>\n",
       "      <td>P.</td>\n",
       "      <td>Jr.</td>\n",
       "      <td>Bob</td>\n",
       "      <td>Robert P. Casey, Jr.</td>\n",
       "      <td>1960-04-13</td>\n",
       "      <td>M</td>\n",
       "      <td>sen</td>\n",
       "      <td>PA</td>\n",
       "      <td>...</td>\n",
       "      <td>N00027503</td>\n",
       "      <td>S309</td>\n",
       "      <td>S6PA00217</td>\n",
       "      <td>47036.0</td>\n",
       "      <td>412246</td>\n",
       "      <td>2541.0</td>\n",
       "      <td>Bob Casey, Jr.</td>\n",
       "      <td>NaN</td>\n",
       "      <td>40703.0</td>\n",
       "      <td>Bob Casey Jr.</td>\n",
       "    </tr>\n",
       "  </tbody>\n",
       "</table>\n",
       "<p>5 rows × 34 columns</p>\n",
       "</div>"
      ],
      "text/plain": [
       "  last_name first_name middle_name suffix nickname             full_name  \\\n",
       "0     Brown    Sherrod         NaN    NaN      NaN         Sherrod Brown   \n",
       "1  Cantwell      Maria         NaN    NaN      NaN        Maria Cantwell   \n",
       "2    Cardin   Benjamin          L.    NaN      NaN    Benjamin L. Cardin   \n",
       "3    Carper     Thomas     Richard    NaN      NaN      Thomas R. Carper   \n",
       "4     Casey     Robert          P.    Jr.      Bob  Robert P. Casey, Jr.   \n",
       "\n",
       "     birthday gender type state  ...  opensecrets_id  lis_id  \\\n",
       "0  1952-11-09      M  sen    OH  ...       N00003535    S307   \n",
       "1  1958-10-13      F  sen    WA  ...       N00007836    S275   \n",
       "2  1943-10-05      M  sen    MD  ...       N00001955    S308   \n",
       "3  1947-01-23      M  sen    DE  ...       N00012508    S277   \n",
       "4  1960-04-13      M  sen    PA  ...       N00027503    S309   \n",
       "\n",
       "               fec_ids cspan_id govtrack_id votesmart_id  ballotpedia_id  \\\n",
       "0  H2OH13033,S6OH00163   5051.0      400050      27018.0   Sherrod Brown   \n",
       "1  S8WA00194,H2WA01054  26137.0      300018      27122.0  Maria Cantwell   \n",
       "2  H6MD03177,S6MD03177   4004.0      400064      26888.0      Ben Cardin   \n",
       "3            S8DE00079    663.0      300019      22421.0      Tom Carper   \n",
       "4            S6PA00217  47036.0      412246       2541.0  Bob Casey, Jr.   \n",
       "\n",
       "  washington_post_id icpsr_id    wikipedia_id  \n",
       "0                NaN  29389.0   Sherrod Brown  \n",
       "1                NaN  39310.0  Maria Cantwell  \n",
       "2                NaN  15408.0      Ben Cardin  \n",
       "3                NaN  15015.0      Tom Carper  \n",
       "4                NaN  40703.0   Bob Casey Jr.  \n",
       "\n",
       "[5 rows x 34 columns]"
      ]
     },
     "execution_count": 13,
     "metadata": {},
     "output_type": "execute_result"
    }
   ],
   "source": [
    "leg = pd.read_csv('https://theunitedstates.io/congress-legislators/legislators-current.csv')\n",
    "leg.head()"
   ]
  },
  {
   "cell_type": "markdown",
   "metadata": {},
   "source": [
    "## Exercise 3: Explore the Data\n",
    "### Task 1\n",
    "Print the column names of the legistators dataframe and explore the type of data in the data frame. "
   ]
  },
  {
   "cell_type": "code",
   "execution_count": 14,
   "metadata": {},
   "outputs": [
    {
     "data": {
      "text/plain": [
       "Index(['last_name', 'first_name', 'middle_name', 'suffix', 'nickname',\n",
       "       'full_name', 'birthday', 'gender', 'type', 'state', 'district',\n",
       "       'senate_class', 'party', 'url', 'address', 'phone', 'contact_form',\n",
       "       'rss_url', 'twitter', 'facebook', 'youtube', 'youtube_id',\n",
       "       'bioguide_id', 'thomas_id', 'opensecrets_id', 'lis_id', 'fec_ids',\n",
       "       'cspan_id', 'govtrack_id', 'votesmart_id', 'ballotpedia_id',\n",
       "       'washington_post_id', 'icpsr_id', 'wikipedia_id'],\n",
       "      dtype='object')"
      ]
     },
     "execution_count": 14,
     "metadata": {},
     "output_type": "execute_result"
    }
   ],
   "source": [
    "leg.columns"
   ]
  },
  {
   "cell_type": "markdown",
   "metadata": {},
   "source": [
    "### Task 2\n",
    "Show the datatypes of all of the columns in the legislator data. Do all of the data types seem appropriate for the data? "
   ]
  },
  {
   "cell_type": "code",
   "execution_count": 19,
   "metadata": {},
   "outputs": [
    {
     "data": {
      "text/plain": [
       "last_name              object\n",
       "first_name             object\n",
       "middle_name            object\n",
       "suffix                 object\n",
       "nickname               object\n",
       "full_name              object\n",
       "birthday               object\n",
       "gender                 object\n",
       "type                   object\n",
       "state                  object\n",
       "district              float64\n",
       "senate_class          float64\n",
       "party                  object\n",
       "url                    object\n",
       "address                object\n",
       "phone                  object\n",
       "contact_form           object\n",
       "rss_url                object\n",
       "twitter                object\n",
       "facebook               object\n",
       "youtube                object\n",
       "youtube_id             object\n",
       "bioguide_id            object\n",
       "thomas_id             float64\n",
       "opensecrets_id         object\n",
       "lis_id                 object\n",
       "fec_ids                object\n",
       "cspan_id              float64\n",
       "govtrack_id             int64\n",
       "votesmart_id          float64\n",
       "ballotpedia_id         object\n",
       "washington_post_id    float64\n",
       "icpsr_id              float64\n",
       "wikipedia_id           object\n",
       "dtype: object"
      ]
     },
     "execution_count": 19,
     "metadata": {},
     "output_type": "execute_result"
    }
   ],
   "source": [
    "leg.dtypes"
   ]
  },
  {
   "cell_type": "markdown",
   "metadata": {},
   "source": [
    "Show all of the datayptes in the iris dataframe"
   ]
  },
  {
   "cell_type": "code",
   "execution_count": 20,
   "metadata": {},
   "outputs": [
    {
     "data": {
      "text/plain": [
       "sepal_length    float64\n",
       "sepal_width     float64\n",
       "petal_length    float64\n",
       "petal_width     float64\n",
       "species          object\n",
       "dtype: object"
      ]
     },
     "execution_count": 20,
     "metadata": {},
     "output_type": "execute_result"
    }
   ],
   "source": [
    "df_iris.dtypes"
   ]
  },
  {
   "cell_type": "markdown",
   "metadata": {},
   "source": [
    "### Task 3\n",
    "It's always important to know where the missing values are in your data. Are there any missing values in the legislators dataframe? How many per column?  \n",
    "\n",
    "Hint: we didn't learn how to find missing values in the lesson, but we can use the `isna()` function."
   ]
  },
  {
   "cell_type": "code",
   "execution_count": 27,
   "metadata": {},
   "outputs": [
    {
     "data": {
      "text/plain": [
       "last_name               0\n",
       "first_name              0\n",
       "middle_name           340\n",
       "suffix                518\n",
       "nickname              508\n",
       "full_name               0\n",
       "birthday                0\n",
       "gender                  0\n",
       "type                    0\n",
       "state                   0\n",
       "district              100\n",
       "senate_class          436\n",
       "party                   0\n",
       "url                     0\n",
       "address                 0\n",
       "phone                   0\n",
       "contact_form          435\n",
       "rss_url               245\n",
       "twitter                 8\n",
       "facebook              111\n",
       "youtube               229\n",
       "youtube_id            140\n",
       "bioguide_id             0\n",
       "thomas_id             160\n",
       "opensecrets_id          1\n",
       "lis_id                436\n",
       "fec_ids                 0\n",
       "cspan_id              102\n",
       "govtrack_id             0\n",
       "votesmart_id           19\n",
       "ballotpedia_id        213\n",
       "washington_post_id    536\n",
       "icpsr_id                7\n",
       "wikipedia_id            0\n",
       "dtype: int64"
      ]
     },
     "execution_count": 27,
     "metadata": {},
     "output_type": "execute_result"
    }
   ],
   "source": [
    "leg.isna().sum()"
   ]
  },
  {
   "cell_type": "markdown",
   "metadata": {},
   "source": [
    "How about in the iris dataframe?"
   ]
  },
  {
   "cell_type": "code",
   "execution_count": 31,
   "metadata": {},
   "outputs": [
    {
     "data": {
      "text/plain": [
       "sepal_length    0\n",
       "sepal_width     0\n",
       "petal_length    0\n",
       "petal_width     0\n",
       "species         0\n",
       "dtype: int64"
      ]
     },
     "execution_count": 31,
     "metadata": {},
     "output_type": "execute_result"
    }
   ],
   "source": [
    "df_iris.isna().sum()"
   ]
  },
  {
   "cell_type": "markdown",
   "metadata": {},
   "source": [
    "### Task 4\n",
    "It is also important to know if you have any duplicatd rows. If you are performing statistcal analyses and you have duplicated entries they can affect the results.  So, let's find out.  Are there any duplicated rows in the legislators dataframe?  Print then number of duplicates. If there are duplicates print the rows. What function could we used to find out if we have duplicated rows?"
   ]
  },
  {
   "cell_type": "code",
   "execution_count": 36,
   "metadata": {},
   "outputs": [
    {
     "data": {
      "text/html": [
       "<div>\n",
       "<style scoped>\n",
       "    .dataframe tbody tr th:only-of-type {\n",
       "        vertical-align: middle;\n",
       "    }\n",
       "\n",
       "    .dataframe tbody tr th {\n",
       "        vertical-align: top;\n",
       "    }\n",
       "\n",
       "    .dataframe thead th {\n",
       "        text-align: right;\n",
       "    }\n",
       "</style>\n",
       "<table border=\"1\" class=\"dataframe\">\n",
       "  <thead>\n",
       "    <tr style=\"text-align: right;\">\n",
       "      <th></th>\n",
       "      <th>sepal_length</th>\n",
       "      <th>sepal_width</th>\n",
       "      <th>petal_length</th>\n",
       "      <th>petal_width</th>\n",
       "      <th>species</th>\n",
       "    </tr>\n",
       "  </thead>\n",
       "  <tbody>\n",
       "    <tr>\n",
       "      <td>0</td>\n",
       "      <td>5.1</td>\n",
       "      <td>3.5</td>\n",
       "      <td>1.4</td>\n",
       "      <td>0.2</td>\n",
       "      <td>setosa</td>\n",
       "    </tr>\n",
       "    <tr>\n",
       "      <td>1</td>\n",
       "      <td>4.9</td>\n",
       "      <td>3.0</td>\n",
       "      <td>1.4</td>\n",
       "      <td>0.2</td>\n",
       "      <td>setosa</td>\n",
       "    </tr>\n",
       "    <tr>\n",
       "      <td>2</td>\n",
       "      <td>4.7</td>\n",
       "      <td>3.2</td>\n",
       "      <td>1.3</td>\n",
       "      <td>0.2</td>\n",
       "      <td>setosa</td>\n",
       "    </tr>\n",
       "    <tr>\n",
       "      <td>3</td>\n",
       "      <td>4.6</td>\n",
       "      <td>3.1</td>\n",
       "      <td>1.5</td>\n",
       "      <td>0.2</td>\n",
       "      <td>setosa</td>\n",
       "    </tr>\n",
       "    <tr>\n",
       "      <td>4</td>\n",
       "      <td>5.0</td>\n",
       "      <td>3.6</td>\n",
       "      <td>1.4</td>\n",
       "      <td>0.2</td>\n",
       "      <td>setosa</td>\n",
       "    </tr>\n",
       "    <tr>\n",
       "      <td>...</td>\n",
       "      <td>...</td>\n",
       "      <td>...</td>\n",
       "      <td>...</td>\n",
       "      <td>...</td>\n",
       "      <td>...</td>\n",
       "    </tr>\n",
       "    <tr>\n",
       "      <td>145</td>\n",
       "      <td>6.7</td>\n",
       "      <td>3.0</td>\n",
       "      <td>5.2</td>\n",
       "      <td>2.3</td>\n",
       "      <td>virginica</td>\n",
       "    </tr>\n",
       "    <tr>\n",
       "      <td>146</td>\n",
       "      <td>6.3</td>\n",
       "      <td>2.5</td>\n",
       "      <td>5.0</td>\n",
       "      <td>1.9</td>\n",
       "      <td>virginica</td>\n",
       "    </tr>\n",
       "    <tr>\n",
       "      <td>147</td>\n",
       "      <td>6.5</td>\n",
       "      <td>3.0</td>\n",
       "      <td>5.2</td>\n",
       "      <td>2.0</td>\n",
       "      <td>virginica</td>\n",
       "    </tr>\n",
       "    <tr>\n",
       "      <td>148</td>\n",
       "      <td>6.2</td>\n",
       "      <td>3.4</td>\n",
       "      <td>5.4</td>\n",
       "      <td>2.3</td>\n",
       "      <td>virginica</td>\n",
       "    </tr>\n",
       "    <tr>\n",
       "      <td>149</td>\n",
       "      <td>5.9</td>\n",
       "      <td>3.0</td>\n",
       "      <td>5.1</td>\n",
       "      <td>1.8</td>\n",
       "      <td>virginica</td>\n",
       "    </tr>\n",
       "  </tbody>\n",
       "</table>\n",
       "<p>147 rows × 5 columns</p>\n",
       "</div>"
      ],
      "text/plain": [
       "     sepal_length  sepal_width  petal_length  petal_width    species\n",
       "0             5.1          3.5           1.4          0.2     setosa\n",
       "1             4.9          3.0           1.4          0.2     setosa\n",
       "2             4.7          3.2           1.3          0.2     setosa\n",
       "3             4.6          3.1           1.5          0.2     setosa\n",
       "4             5.0          3.6           1.4          0.2     setosa\n",
       "..            ...          ...           ...          ...        ...\n",
       "145           6.7          3.0           5.2          2.3  virginica\n",
       "146           6.3          2.5           5.0          1.9  virginica\n",
       "147           6.5          3.0           5.2          2.0  virginica\n",
       "148           6.2          3.4           5.4          2.3  virginica\n",
       "149           5.9          3.0           5.1          1.8  virginica\n",
       "\n",
       "[147 rows x 5 columns]"
      ]
     },
     "execution_count": 36,
     "metadata": {},
     "output_type": "execute_result"
    }
   ],
   "source": [
    "leg.duplicated().sum() # Sum of True values or duplicated rows\n",
    "df_iris[df_iris.duplicated()==False] # Returns the lines in boolean for,a"
   ]
  },
  {
   "cell_type": "markdown",
   "metadata": {},
   "source": [
    "Do we have duplicated rows in the iris dataset? Print the number of duplicates? If there are duplicates print the rows."
   ]
  },
  {
   "cell_type": "code",
   "execution_count": null,
   "metadata": {},
   "outputs": [],
   "source": []
  },
  {
   "cell_type": "code",
   "execution_count": null,
   "metadata": {},
   "outputs": [],
   "source": []
  },
  {
   "cell_type": "markdown",
   "metadata": {},
   "source": [
    "If there are duplicated rows should we remove them or keep them?"
   ]
  },
  {
   "cell_type": "markdown",
   "metadata": {},
   "source": [
    "### Task 5\n",
    "It is important to also check that the range of values in our data matches expectations.  For example, if we expect to have four species in our iris data, we should check that we see four species. How many political parties should we expect in the legislators data?  If all we saw were a single part perhaps the data is incomplete.... Let's check.   You can find out how many unique values there are per column using the `nunique` function.  Try it for both the legislators and the iris data set."
   ]
  },
  {
   "cell_type": "code",
   "execution_count": 37,
   "metadata": {},
   "outputs": [
    {
     "data": {
      "text/plain": [
       "sepal_length    35\n",
       "sepal_width     23\n",
       "petal_length    43\n",
       "petal_width     22\n",
       "species          3\n",
       "dtype: int64"
      ]
     },
     "execution_count": 37,
     "metadata": {},
     "output_type": "execute_result"
    }
   ],
   "source": [
    "df_iris.nunique()"
   ]
  },
  {
   "cell_type": "code",
   "execution_count": 38,
   "metadata": {},
   "outputs": [
    {
     "data": {
      "text/plain": [
       "last_name             488\n",
       "first_name            317\n",
       "middle_name            59\n",
       "suffix                  4\n",
       "nickname               21\n",
       "full_name             536\n",
       "birthday              529\n",
       "gender                  2\n",
       "type                    2\n",
       "state                  56\n",
       "district               53\n",
       "senate_class            3\n",
       "party                   3\n",
       "url                   536\n",
       "address               536\n",
       "phone                 536\n",
       "contact_form          101\n",
       "rss_url               290\n",
       "twitter               528\n",
       "facebook              425\n",
       "youtube               307\n",
       "youtube_id            396\n",
       "bioguide_id           536\n",
       "thomas_id             376\n",
       "opensecrets_id        535\n",
       "lis_id                100\n",
       "fec_ids               536\n",
       "cspan_id              434\n",
       "govtrack_id           536\n",
       "votesmart_id          517\n",
       "ballotpedia_id        323\n",
       "washington_post_id      0\n",
       "icpsr_id              529\n",
       "wikipedia_id          536\n",
       "dtype: int64"
      ]
     },
     "execution_count": 38,
     "metadata": {},
     "output_type": "execute_result"
    }
   ],
   "source": [
    "leg.nunique()"
   ]
  },
  {
   "cell_type": "markdown",
   "metadata": {},
   "source": [
    "What do you think?  Do we see what we might expect?  Are there fields where this type of check doesn't matter? In what fields might this type of exploration matter?"
   ]
  },
  {
   "cell_type": "markdown",
   "metadata": {},
   "source": [
    "Check to see if you have all of the values expected for a given field. Pick a column you know should have a set number of values and print all of the unique values in that column. Do so for both the legislator and iris datasets."
   ]
  },
  {
   "cell_type": "code",
   "execution_count": 43,
   "metadata": {},
   "outputs": [
    {
     "data": {
      "text/plain": [
       "array(['M', 'F'], dtype=object)"
      ]
     },
     "execution_count": 43,
     "metadata": {},
     "output_type": "execute_result"
    }
   ],
   "source": [
    "leg['gender'].unique() # Return the unique values in df leg"
   ]
  },
  {
   "cell_type": "code",
   "execution_count": null,
   "metadata": {},
   "outputs": [],
   "source": []
  },
  {
   "cell_type": "markdown",
   "metadata": {},
   "source": [
    "## Exercise 5: Describe the data\n",
    "For both the legislators and the iris data, get descriptive statistics for each numeric field."
   ]
  },
  {
   "cell_type": "code",
   "execution_count": 44,
   "metadata": {},
   "outputs": [
    {
     "data": {
      "text/html": [
       "<div>\n",
       "<style scoped>\n",
       "    .dataframe tbody tr th:only-of-type {\n",
       "        vertical-align: middle;\n",
       "    }\n",
       "\n",
       "    .dataframe tbody tr th {\n",
       "        vertical-align: top;\n",
       "    }\n",
       "\n",
       "    .dataframe thead th {\n",
       "        text-align: right;\n",
       "    }\n",
       "</style>\n",
       "<table border=\"1\" class=\"dataframe\">\n",
       "  <thead>\n",
       "    <tr style=\"text-align: right;\">\n",
       "      <th></th>\n",
       "      <th>sepal_length</th>\n",
       "      <th>sepal_width</th>\n",
       "      <th>petal_length</th>\n",
       "      <th>petal_width</th>\n",
       "    </tr>\n",
       "  </thead>\n",
       "  <tbody>\n",
       "    <tr>\n",
       "      <td>count</td>\n",
       "      <td>150.000000</td>\n",
       "      <td>150.000000</td>\n",
       "      <td>150.000000</td>\n",
       "      <td>150.000000</td>\n",
       "    </tr>\n",
       "    <tr>\n",
       "      <td>mean</td>\n",
       "      <td>5.843333</td>\n",
       "      <td>3.054000</td>\n",
       "      <td>3.758667</td>\n",
       "      <td>1.198667</td>\n",
       "    </tr>\n",
       "    <tr>\n",
       "      <td>std</td>\n",
       "      <td>0.828066</td>\n",
       "      <td>0.433594</td>\n",
       "      <td>1.764420</td>\n",
       "      <td>0.763161</td>\n",
       "    </tr>\n",
       "    <tr>\n",
       "      <td>min</td>\n",
       "      <td>4.300000</td>\n",
       "      <td>2.000000</td>\n",
       "      <td>1.000000</td>\n",
       "      <td>0.100000</td>\n",
       "    </tr>\n",
       "    <tr>\n",
       "      <td>25%</td>\n",
       "      <td>5.100000</td>\n",
       "      <td>2.800000</td>\n",
       "      <td>1.600000</td>\n",
       "      <td>0.300000</td>\n",
       "    </tr>\n",
       "    <tr>\n",
       "      <td>50%</td>\n",
       "      <td>5.800000</td>\n",
       "      <td>3.000000</td>\n",
       "      <td>4.350000</td>\n",
       "      <td>1.300000</td>\n",
       "    </tr>\n",
       "    <tr>\n",
       "      <td>75%</td>\n",
       "      <td>6.400000</td>\n",
       "      <td>3.300000</td>\n",
       "      <td>5.100000</td>\n",
       "      <td>1.800000</td>\n",
       "    </tr>\n",
       "    <tr>\n",
       "      <td>max</td>\n",
       "      <td>7.900000</td>\n",
       "      <td>4.400000</td>\n",
       "      <td>6.900000</td>\n",
       "      <td>2.500000</td>\n",
       "    </tr>\n",
       "  </tbody>\n",
       "</table>\n",
       "</div>"
      ],
      "text/plain": [
       "       sepal_length  sepal_width  petal_length  petal_width\n",
       "count    150.000000   150.000000    150.000000   150.000000\n",
       "mean       5.843333     3.054000      3.758667     1.198667\n",
       "std        0.828066     0.433594      1.764420     0.763161\n",
       "min        4.300000     2.000000      1.000000     0.100000\n",
       "25%        5.100000     2.800000      1.600000     0.300000\n",
       "50%        5.800000     3.000000      4.350000     1.300000\n",
       "75%        6.400000     3.300000      5.100000     1.800000\n",
       "max        7.900000     4.400000      6.900000     2.500000"
      ]
     },
     "execution_count": 44,
     "metadata": {},
     "output_type": "execute_result"
    }
   ],
   "source": [
    "df_iris.describe()"
   ]
  },
  {
   "cell_type": "code",
   "execution_count": null,
   "metadata": {},
   "outputs": [],
   "source": []
  },
  {
   "cell_type": "markdown",
   "metadata": {},
   "source": [
    "## Exercise 6: Row Index Labels\n",
    "For the legislator dataframe, let's change the row labels from numerical indexes to something more recognizable.  Take a look at the columns of data, is there anything you might want to substitue as a row label?  Pick one and set the index lables. Then print the top 5 rows to see if the index labels are present."
   ]
  },
  {
   "cell_type": "code",
   "execution_count": 53,
   "metadata": {},
   "outputs": [
    {
     "data": {
      "text/html": [
       "<div>\n",
       "<style scoped>\n",
       "    .dataframe tbody tr th:only-of-type {\n",
       "        vertical-align: middle;\n",
       "    }\n",
       "\n",
       "    .dataframe tbody tr th {\n",
       "        vertical-align: top;\n",
       "    }\n",
       "\n",
       "    .dataframe thead th {\n",
       "        text-align: right;\n",
       "    }\n",
       "</style>\n",
       "<table border=\"1\" class=\"dataframe\">\n",
       "  <thead>\n",
       "    <tr style=\"text-align: right;\">\n",
       "      <th></th>\n",
       "      <th>last_name</th>\n",
       "      <th>first_name</th>\n",
       "      <th>middle_name</th>\n",
       "      <th>suffix</th>\n",
       "      <th>nickname</th>\n",
       "      <th>full_name</th>\n",
       "      <th>birthday</th>\n",
       "      <th>gender</th>\n",
       "      <th>type</th>\n",
       "      <th>state</th>\n",
       "      <th>...</th>\n",
       "      <th>opensecrets_id</th>\n",
       "      <th>lis_id</th>\n",
       "      <th>fec_ids</th>\n",
       "      <th>cspan_id</th>\n",
       "      <th>govtrack_id</th>\n",
       "      <th>votesmart_id</th>\n",
       "      <th>ballotpedia_id</th>\n",
       "      <th>washington_post_id</th>\n",
       "      <th>icpsr_id</th>\n",
       "      <th>wikipedia_id</th>\n",
       "    </tr>\n",
       "  </thead>\n",
       "  <tbody>\n",
       "    <tr>\n",
       "      <td>151</td>\n",
       "      <td>Markey</td>\n",
       "      <td>Edward</td>\n",
       "      <td>J.</td>\n",
       "      <td>NaN</td>\n",
       "      <td>Ed</td>\n",
       "      <td>Edward J. Markey</td>\n",
       "      <td>1946-07-11</td>\n",
       "      <td>M</td>\n",
       "      <td>sen</td>\n",
       "      <td>MA</td>\n",
       "      <td>...</td>\n",
       "      <td>N00000270</td>\n",
       "      <td>S369</td>\n",
       "      <td>H6MA07101,S4MA00028</td>\n",
       "      <td>260.0</td>\n",
       "      <td>400253</td>\n",
       "      <td>26900.0</td>\n",
       "      <td>Ed Markey</td>\n",
       "      <td>NaN</td>\n",
       "      <td>14435.0</td>\n",
       "      <td>Ed Markey</td>\n",
       "    </tr>\n",
       "    <tr>\n",
       "      <td>319</td>\n",
       "      <td>Booker</td>\n",
       "      <td>Cory</td>\n",
       "      <td>Anthony</td>\n",
       "      <td>NaN</td>\n",
       "      <td>NaN</td>\n",
       "      <td>Cory A. Booker</td>\n",
       "      <td>1969-04-27</td>\n",
       "      <td>M</td>\n",
       "      <td>sen</td>\n",
       "      <td>NJ</td>\n",
       "      <td>...</td>\n",
       "      <td>N00035267</td>\n",
       "      <td>S370</td>\n",
       "      <td>S4NJ00185</td>\n",
       "      <td>84679.0</td>\n",
       "      <td>412598</td>\n",
       "      <td>76151.0</td>\n",
       "      <td>Cory Booker</td>\n",
       "      <td>NaN</td>\n",
       "      <td>41308.0</td>\n",
       "      <td>Cory Booker</td>\n",
       "    </tr>\n",
       "    <tr>\n",
       "      <td>284</td>\n",
       "      <td>Warren</td>\n",
       "      <td>Elizabeth</td>\n",
       "      <td>NaN</td>\n",
       "      <td>NaN</td>\n",
       "      <td>NaN</td>\n",
       "      <td>Elizabeth Warren</td>\n",
       "      <td>1949-06-22</td>\n",
       "      <td>F</td>\n",
       "      <td>sen</td>\n",
       "      <td>MA</td>\n",
       "      <td>...</td>\n",
       "      <td>N00033492</td>\n",
       "      <td>S366</td>\n",
       "      <td>S2MA00170</td>\n",
       "      <td>1023023.0</td>\n",
       "      <td>412542</td>\n",
       "      <td>141272.0</td>\n",
       "      <td>Elizabeth Warren</td>\n",
       "      <td>NaN</td>\n",
       "      <td>41301.0</td>\n",
       "      <td>Elizabeth Warren</td>\n",
       "    </tr>\n",
       "    <tr>\n",
       "      <td>28</td>\n",
       "      <td>Warner</td>\n",
       "      <td>Mark</td>\n",
       "      <td>NaN</td>\n",
       "      <td>NaN</td>\n",
       "      <td>NaN</td>\n",
       "      <td>Mark R. Warner</td>\n",
       "      <td>1954-12-15</td>\n",
       "      <td>M</td>\n",
       "      <td>sen</td>\n",
       "      <td>VA</td>\n",
       "      <td>...</td>\n",
       "      <td>N00002097</td>\n",
       "      <td>S327</td>\n",
       "      <td>S6VA00093,P80003023</td>\n",
       "      <td>7630.0</td>\n",
       "      <td>412321</td>\n",
       "      <td>535.0</td>\n",
       "      <td>Mark Warner</td>\n",
       "      <td>NaN</td>\n",
       "      <td>40909.0</td>\n",
       "      <td>Mark Warner</td>\n",
       "    </tr>\n",
       "    <tr>\n",
       "      <td>42</td>\n",
       "      <td>Blumenthal</td>\n",
       "      <td>Richard</td>\n",
       "      <td>NaN</td>\n",
       "      <td>NaN</td>\n",
       "      <td>NaN</td>\n",
       "      <td>Richard Blumenthal</td>\n",
       "      <td>1946-02-13</td>\n",
       "      <td>M</td>\n",
       "      <td>sen</td>\n",
       "      <td>CT</td>\n",
       "      <td>...</td>\n",
       "      <td>N00031685</td>\n",
       "      <td>S341</td>\n",
       "      <td>S0CT00177</td>\n",
       "      <td>21799.0</td>\n",
       "      <td>412490</td>\n",
       "      <td>1568.0</td>\n",
       "      <td>Richard Blumenthal</td>\n",
       "      <td>NaN</td>\n",
       "      <td>41101.0</td>\n",
       "      <td>Richard Blumenthal</td>\n",
       "    </tr>\n",
       "    <tr>\n",
       "      <td>29</td>\n",
       "      <td>Gillibrand</td>\n",
       "      <td>Kirsten</td>\n",
       "      <td>E.</td>\n",
       "      <td>NaN</td>\n",
       "      <td>NaN</td>\n",
       "      <td>Kirsten E. Gillibrand</td>\n",
       "      <td>1966-12-09</td>\n",
       "      <td>F</td>\n",
       "      <td>sen</td>\n",
       "      <td>NY</td>\n",
       "      <td>...</td>\n",
       "      <td>N00027658</td>\n",
       "      <td>S331</td>\n",
       "      <td>H6NY20167,S0NY00410</td>\n",
       "      <td>1022862.0</td>\n",
       "      <td>412223</td>\n",
       "      <td>65147.0</td>\n",
       "      <td>Kirsten Gillibrand</td>\n",
       "      <td>NaN</td>\n",
       "      <td>20735.0</td>\n",
       "      <td>Kirsten Gillibrand</td>\n",
       "    </tr>\n",
       "    <tr>\n",
       "      <td>234</td>\n",
       "      <td>Van Hollen</td>\n",
       "      <td>Chris</td>\n",
       "      <td>NaN</td>\n",
       "      <td>Jr.</td>\n",
       "      <td>NaN</td>\n",
       "      <td>Chris Van Hollen</td>\n",
       "      <td>1959-01-10</td>\n",
       "      <td>M</td>\n",
       "      <td>sen</td>\n",
       "      <td>MD</td>\n",
       "      <td>...</td>\n",
       "      <td>N00013820</td>\n",
       "      <td>S390</td>\n",
       "      <td>H2MD08126,S6MD03441</td>\n",
       "      <td>20756.0</td>\n",
       "      <td>400415</td>\n",
       "      <td>6098.0</td>\n",
       "      <td>NaN</td>\n",
       "      <td>NaN</td>\n",
       "      <td>20330.0</td>\n",
       "      <td>Chris Van Hollen</td>\n",
       "    </tr>\n",
       "    <tr>\n",
       "      <td>313</td>\n",
       "      <td>Kaine</td>\n",
       "      <td>Timothy</td>\n",
       "      <td>NaN</td>\n",
       "      <td>NaN</td>\n",
       "      <td>Tim</td>\n",
       "      <td>Tim Kaine</td>\n",
       "      <td>1958-02-26</td>\n",
       "      <td>M</td>\n",
       "      <td>sen</td>\n",
       "      <td>VA</td>\n",
       "      <td>...</td>\n",
       "      <td>N00033177</td>\n",
       "      <td>S362</td>\n",
       "      <td>S2VA00142</td>\n",
       "      <td>49219.0</td>\n",
       "      <td>412582</td>\n",
       "      <td>50772.0</td>\n",
       "      <td>Tim Kaine</td>\n",
       "      <td>NaN</td>\n",
       "      <td>41305.0</td>\n",
       "      <td>Tim Kaine</td>\n",
       "    </tr>\n",
       "    <tr>\n",
       "      <td>261</td>\n",
       "      <td>Sinema</td>\n",
       "      <td>Kyrsten</td>\n",
       "      <td>NaN</td>\n",
       "      <td>NaN</td>\n",
       "      <td>NaN</td>\n",
       "      <td>Kyrsten Sinema</td>\n",
       "      <td>1976-07-12</td>\n",
       "      <td>F</td>\n",
       "      <td>sen</td>\n",
       "      <td>AZ</td>\n",
       "      <td>...</td>\n",
       "      <td>N00033983</td>\n",
       "      <td>S403</td>\n",
       "      <td>H2AZ09019,S8AZ00197</td>\n",
       "      <td>68489.0</td>\n",
       "      <td>412509</td>\n",
       "      <td>28338.0</td>\n",
       "      <td>Kyrsten Sinema</td>\n",
       "      <td>NaN</td>\n",
       "      <td>21300.0</td>\n",
       "      <td>Kyrsten Sinema</td>\n",
       "    </tr>\n",
       "    <tr>\n",
       "      <td>109</td>\n",
       "      <td>Heinrich</td>\n",
       "      <td>Martin</td>\n",
       "      <td>NaN</td>\n",
       "      <td>NaN</td>\n",
       "      <td>NaN</td>\n",
       "      <td>Martin Heinrich</td>\n",
       "      <td>1971-10-17</td>\n",
       "      <td>M</td>\n",
       "      <td>sen</td>\n",
       "      <td>NM</td>\n",
       "      <td>...</td>\n",
       "      <td>N00029835</td>\n",
       "      <td>S359</td>\n",
       "      <td>H8NM01224,S2NM00088</td>\n",
       "      <td>1030686.0</td>\n",
       "      <td>412281</td>\n",
       "      <td>74517.0</td>\n",
       "      <td>Martin Heinrich</td>\n",
       "      <td>NaN</td>\n",
       "      <td>20930.0</td>\n",
       "      <td>Martin Heinrich</td>\n",
       "    </tr>\n",
       "    <tr>\n",
       "      <td>278</td>\n",
       "      <td>Duckworth</td>\n",
       "      <td>Tammy</td>\n",
       "      <td>NaN</td>\n",
       "      <td>NaN</td>\n",
       "      <td>NaN</td>\n",
       "      <td>Tammy Duckworth</td>\n",
       "      <td>1968-03-12</td>\n",
       "      <td>F</td>\n",
       "      <td>sen</td>\n",
       "      <td>IL</td>\n",
       "      <td>...</td>\n",
       "      <td>N00027860</td>\n",
       "      <td>S386</td>\n",
       "      <td>H6IL06141,S6IL00292</td>\n",
       "      <td>94484.0</td>\n",
       "      <td>412533</td>\n",
       "      <td>57442.0</td>\n",
       "      <td>Tammy Duckworth</td>\n",
       "      <td>NaN</td>\n",
       "      <td>21325.0</td>\n",
       "      <td>Tammy Duckworth</td>\n",
       "    </tr>\n",
       "    <tr>\n",
       "      <td>9</td>\n",
       "      <td>Stabenow</td>\n",
       "      <td>Debbie</td>\n",
       "      <td>Ann</td>\n",
       "      <td>NaN</td>\n",
       "      <td>NaN</td>\n",
       "      <td>Debbie Stabenow</td>\n",
       "      <td>1950-04-29</td>\n",
       "      <td>F</td>\n",
       "      <td>sen</td>\n",
       "      <td>MI</td>\n",
       "      <td>...</td>\n",
       "      <td>N00004118</td>\n",
       "      <td>S284</td>\n",
       "      <td>S8MI00281,H6MI08163</td>\n",
       "      <td>45451.0</td>\n",
       "      <td>300093</td>\n",
       "      <td>515.0</td>\n",
       "      <td>Debbie Stabenow</td>\n",
       "      <td>NaN</td>\n",
       "      <td>29732.0</td>\n",
       "      <td>Debbie Stabenow</td>\n",
       "    </tr>\n",
       "    <tr>\n",
       "      <td>17</td>\n",
       "      <td>Durbin</td>\n",
       "      <td>Richard</td>\n",
       "      <td>J.</td>\n",
       "      <td>NaN</td>\n",
       "      <td>NaN</td>\n",
       "      <td>Richard J. Durbin</td>\n",
       "      <td>1944-11-21</td>\n",
       "      <td>M</td>\n",
       "      <td>sen</td>\n",
       "      <td>IL</td>\n",
       "      <td>...</td>\n",
       "      <td>N00004981</td>\n",
       "      <td>S253</td>\n",
       "      <td>S6IL00151,H2IL20026</td>\n",
       "      <td>6741.0</td>\n",
       "      <td>300038</td>\n",
       "      <td>26847.0</td>\n",
       "      <td>Dick Durbin</td>\n",
       "      <td>NaN</td>\n",
       "      <td>15021.0</td>\n",
       "      <td>Dick Durbin</td>\n",
       "    </tr>\n",
       "    <tr>\n",
       "      <td>11</td>\n",
       "      <td>Whitehouse</td>\n",
       "      <td>Sheldon</td>\n",
       "      <td>NaN</td>\n",
       "      <td>NaN</td>\n",
       "      <td>NaN</td>\n",
       "      <td>Sheldon Whitehouse</td>\n",
       "      <td>1955-10-20</td>\n",
       "      <td>M</td>\n",
       "      <td>sen</td>\n",
       "      <td>RI</td>\n",
       "      <td>...</td>\n",
       "      <td>N00027533</td>\n",
       "      <td>S316</td>\n",
       "      <td>S6RI00221</td>\n",
       "      <td>92235.0</td>\n",
       "      <td>412247</td>\n",
       "      <td>2572.0</td>\n",
       "      <td>Sheldon Whitehouse</td>\n",
       "      <td>NaN</td>\n",
       "      <td>40704.0</td>\n",
       "      <td>Sheldon Whitehouse</td>\n",
       "    </tr>\n",
       "    <tr>\n",
       "      <td>2</td>\n",
       "      <td>Cardin</td>\n",
       "      <td>Benjamin</td>\n",
       "      <td>L.</td>\n",
       "      <td>NaN</td>\n",
       "      <td>NaN</td>\n",
       "      <td>Benjamin L. Cardin</td>\n",
       "      <td>1943-10-05</td>\n",
       "      <td>M</td>\n",
       "      <td>sen</td>\n",
       "      <td>MD</td>\n",
       "      <td>...</td>\n",
       "      <td>N00001955</td>\n",
       "      <td>S308</td>\n",
       "      <td>H6MD03177,S6MD03177</td>\n",
       "      <td>4004.0</td>\n",
       "      <td>400064</td>\n",
       "      <td>26888.0</td>\n",
       "      <td>Ben Cardin</td>\n",
       "      <td>NaN</td>\n",
       "      <td>15408.0</td>\n",
       "      <td>Ben Cardin</td>\n",
       "    </tr>\n",
       "  </tbody>\n",
       "</table>\n",
       "<p>15 rows × 34 columns</p>\n",
       "</div>"
      ],
      "text/plain": [
       "      last_name first_name middle_name suffix nickname              full_name  \\\n",
       "151      Markey     Edward          J.    NaN       Ed       Edward J. Markey   \n",
       "319      Booker       Cory     Anthony    NaN      NaN         Cory A. Booker   \n",
       "284      Warren  Elizabeth         NaN    NaN      NaN       Elizabeth Warren   \n",
       "28       Warner       Mark         NaN    NaN      NaN         Mark R. Warner   \n",
       "42   Blumenthal    Richard         NaN    NaN      NaN     Richard Blumenthal   \n",
       "29   Gillibrand    Kirsten          E.    NaN      NaN  Kirsten E. Gillibrand   \n",
       "234  Van Hollen      Chris         NaN    Jr.      NaN       Chris Van Hollen   \n",
       "313       Kaine    Timothy         NaN    NaN      Tim              Tim Kaine   \n",
       "261      Sinema    Kyrsten         NaN    NaN      NaN         Kyrsten Sinema   \n",
       "109    Heinrich     Martin         NaN    NaN      NaN        Martin Heinrich   \n",
       "278   Duckworth      Tammy         NaN    NaN      NaN        Tammy Duckworth   \n",
       "9      Stabenow     Debbie         Ann    NaN      NaN        Debbie Stabenow   \n",
       "17       Durbin    Richard          J.    NaN      NaN      Richard J. Durbin   \n",
       "11   Whitehouse    Sheldon         NaN    NaN      NaN     Sheldon Whitehouse   \n",
       "2        Cardin   Benjamin          L.    NaN      NaN     Benjamin L. Cardin   \n",
       "\n",
       "       birthday gender type state  ...  opensecrets_id  lis_id  \\\n",
       "151  1946-07-11      M  sen    MA  ...       N00000270    S369   \n",
       "319  1969-04-27      M  sen    NJ  ...       N00035267    S370   \n",
       "284  1949-06-22      F  sen    MA  ...       N00033492    S366   \n",
       "28   1954-12-15      M  sen    VA  ...       N00002097    S327   \n",
       "42   1946-02-13      M  sen    CT  ...       N00031685    S341   \n",
       "29   1966-12-09      F  sen    NY  ...       N00027658    S331   \n",
       "234  1959-01-10      M  sen    MD  ...       N00013820    S390   \n",
       "313  1958-02-26      M  sen    VA  ...       N00033177    S362   \n",
       "261  1976-07-12      F  sen    AZ  ...       N00033983    S403   \n",
       "109  1971-10-17      M  sen    NM  ...       N00029835    S359   \n",
       "278  1968-03-12      F  sen    IL  ...       N00027860    S386   \n",
       "9    1950-04-29      F  sen    MI  ...       N00004118    S284   \n",
       "17   1944-11-21      M  sen    IL  ...       N00004981    S253   \n",
       "11   1955-10-20      M  sen    RI  ...       N00027533    S316   \n",
       "2    1943-10-05      M  sen    MD  ...       N00001955    S308   \n",
       "\n",
       "                 fec_ids   cspan_id govtrack_id votesmart_id  \\\n",
       "151  H6MA07101,S4MA00028      260.0      400253      26900.0   \n",
       "319            S4NJ00185    84679.0      412598      76151.0   \n",
       "284            S2MA00170  1023023.0      412542     141272.0   \n",
       "28   S6VA00093,P80003023     7630.0      412321        535.0   \n",
       "42             S0CT00177    21799.0      412490       1568.0   \n",
       "29   H6NY20167,S0NY00410  1022862.0      412223      65147.0   \n",
       "234  H2MD08126,S6MD03441    20756.0      400415       6098.0   \n",
       "313            S2VA00142    49219.0      412582      50772.0   \n",
       "261  H2AZ09019,S8AZ00197    68489.0      412509      28338.0   \n",
       "109  H8NM01224,S2NM00088  1030686.0      412281      74517.0   \n",
       "278  H6IL06141,S6IL00292    94484.0      412533      57442.0   \n",
       "9    S8MI00281,H6MI08163    45451.0      300093        515.0   \n",
       "17   S6IL00151,H2IL20026     6741.0      300038      26847.0   \n",
       "11             S6RI00221    92235.0      412247       2572.0   \n",
       "2    H6MD03177,S6MD03177     4004.0      400064      26888.0   \n",
       "\n",
       "         ballotpedia_id washington_post_id icpsr_id        wikipedia_id  \n",
       "151           Ed Markey                NaN  14435.0           Ed Markey  \n",
       "319         Cory Booker                NaN  41308.0         Cory Booker  \n",
       "284    Elizabeth Warren                NaN  41301.0    Elizabeth Warren  \n",
       "28          Mark Warner                NaN  40909.0         Mark Warner  \n",
       "42   Richard Blumenthal                NaN  41101.0  Richard Blumenthal  \n",
       "29   Kirsten Gillibrand                NaN  20735.0  Kirsten Gillibrand  \n",
       "234                 NaN                NaN  20330.0    Chris Van Hollen  \n",
       "313           Tim Kaine                NaN  41305.0           Tim Kaine  \n",
       "261      Kyrsten Sinema                NaN  21300.0      Kyrsten Sinema  \n",
       "109     Martin Heinrich                NaN  20930.0     Martin Heinrich  \n",
       "278     Tammy Duckworth                NaN  21325.0     Tammy Duckworth  \n",
       "9       Debbie Stabenow                NaN  29732.0     Debbie Stabenow  \n",
       "17          Dick Durbin                NaN  15021.0         Dick Durbin  \n",
       "11   Sheldon Whitehouse                NaN  40704.0  Sheldon Whitehouse  \n",
       "2            Ben Cardin                NaN  15408.0          Ben Cardin  \n",
       "\n",
       "[15 rows x 34 columns]"
      ]
     },
     "execution_count": 53,
     "metadata": {},
     "output_type": "execute_result"
    }
   ],
   "source": [
    "leg[(~leg['senate_class'].isna()) & (leg['party'] == 'Democrat')].sample(15) # Indexing with booleans\n",
    "\n"
   ]
  },
  {
   "cell_type": "markdown",
   "metadata": {},
   "source": [
    "## Exercise 7: Indexing & Sampling\n",
    "Randomly select 15 Republicans or Democrats (your choice) from the senate."
   ]
  },
  {
   "cell_type": "code",
   "execution_count": null,
   "metadata": {},
   "outputs": [],
   "source": []
  },
  {
   "cell_type": "markdown",
   "metadata": {},
   "source": [
    "## Exercise 8: Dates\n",
    "Let's learn something not covered in the Pandas 1 lesson regarding dates.  We have the birthdates for each legislator, but they are in a String format.  Let's convert it to a datetime object. We can do this using the `pd.to_datetime` function.  Take a look at the online documentation to see how to use this function. Convert the `legislators['birthday']` column to a `datetime` object. Confirm that the column is now a datetime object."
   ]
  },
  {
   "cell_type": "code",
   "execution_count": 57,
   "metadata": {},
   "outputs": [
    {
     "data": {
      "text/plain": [
       "0     1952-11-09\n",
       "1     1958-10-13\n",
       "2     1943-10-05\n",
       "3     1947-01-23\n",
       "4     1960-04-13\n",
       "         ...    \n",
       "531   1982-07-25\n",
       "532   1965-10-23\n",
       "533   1964-07-01\n",
       "534   1963-03-05\n",
       "535   1970-11-27\n",
       "Name: birthday, Length: 536, dtype: datetime64[ns]"
      ]
     },
     "execution_count": 57,
     "metadata": {},
     "output_type": "execute_result"
    }
   ],
   "source": [
    "leg['birthday'] = pd.to_datetime(leg['birthday'])\n",
    "leg['birthday']"
   ]
  },
  {
   "cell_type": "code",
   "execution_count": 62,
   "metadata": {},
   "outputs": [],
   "source": [
    "age = ((pd.Timestamp.now() - leg['birthday']).dt.days/365).astype(int) #change in tome"
   ]
  },
  {
   "cell_type": "markdown",
   "metadata": {},
   "source": [
    "Now that we have the birthdays in a `datetime` object, how can we calculate their age?  Hint: we can use the `pd.Timestamp.now()` function to get a datetime object for this moment. Let's subtract the current time from their birthdays.  Print the top 5 results."
   ]
  },
  {
   "cell_type": "code",
   "execution_count": 73,
   "metadata": {},
   "outputs": [
    {
     "data": {
      "text/html": [
       "<div>\n",
       "<style scoped>\n",
       "    .dataframe tbody tr th:only-of-type {\n",
       "        vertical-align: middle;\n",
       "    }\n",
       "\n",
       "    .dataframe tbody tr th {\n",
       "        vertical-align: top;\n",
       "    }\n",
       "\n",
       "    .dataframe thead th {\n",
       "        text-align: right;\n",
       "    }\n",
       "</style>\n",
       "<table border=\"1\" class=\"dataframe\">\n",
       "  <thead>\n",
       "    <tr style=\"text-align: right;\">\n",
       "      <th></th>\n",
       "      <th>last_name</th>\n",
       "      <th>first_name</th>\n",
       "      <th>middle_name</th>\n",
       "      <th>suffix</th>\n",
       "      <th>nickname</th>\n",
       "      <th>full_name</th>\n",
       "      <th>birthday</th>\n",
       "      <th>gender</th>\n",
       "      <th>type</th>\n",
       "      <th>state</th>\n",
       "      <th>...</th>\n",
       "      <th>opensecrets_id</th>\n",
       "      <th>lis_id</th>\n",
       "      <th>fec_ids</th>\n",
       "      <th>cspan_id</th>\n",
       "      <th>govtrack_id</th>\n",
       "      <th>votesmart_id</th>\n",
       "      <th>ballotpedia_id</th>\n",
       "      <th>washington_post_id</th>\n",
       "      <th>icpsr_id</th>\n",
       "      <th>wikipedia_id</th>\n",
       "    </tr>\n",
       "  </thead>\n",
       "  <tbody>\n",
       "    <tr>\n",
       "      <td>5</td>\n",
       "      <td>Feinstein</td>\n",
       "      <td>Dianne</td>\n",
       "      <td>NaN</td>\n",
       "      <td>NaN</td>\n",
       "      <td>NaN</td>\n",
       "      <td>Dianne Feinstein</td>\n",
       "      <td>1933-06-22</td>\n",
       "      <td>F</td>\n",
       "      <td>sen</td>\n",
       "      <td>CA</td>\n",
       "      <td>...</td>\n",
       "      <td>N00007364</td>\n",
       "      <td>S221</td>\n",
       "      <td>S0CA00199</td>\n",
       "      <td>13061.0</td>\n",
       "      <td>300043</td>\n",
       "      <td>53273.0</td>\n",
       "      <td>Dianne Feinstein</td>\n",
       "      <td>NaN</td>\n",
       "      <td>49300.0</td>\n",
       "      <td>Dianne Feinstein</td>\n",
       "    </tr>\n",
       "    <tr>\n",
       "      <td>99</td>\n",
       "      <td>Grassley</td>\n",
       "      <td>Charles</td>\n",
       "      <td>E.</td>\n",
       "      <td>NaN</td>\n",
       "      <td>Chuck</td>\n",
       "      <td>Chuck Grassley</td>\n",
       "      <td>1933-09-17</td>\n",
       "      <td>M</td>\n",
       "      <td>sen</td>\n",
       "      <td>IA</td>\n",
       "      <td>...</td>\n",
       "      <td>N00001758</td>\n",
       "      <td>S153</td>\n",
       "      <td>S0IA00028</td>\n",
       "      <td>1167.0</td>\n",
       "      <td>300048</td>\n",
       "      <td>53293.0</td>\n",
       "      <td>Chuck Grassley</td>\n",
       "      <td>NaN</td>\n",
       "      <td>14226.0</td>\n",
       "      <td>Chuck Grassley</td>\n",
       "    </tr>\n",
       "    <tr>\n",
       "      <td>250</td>\n",
       "      <td>Young</td>\n",
       "      <td>Don</td>\n",
       "      <td>E.</td>\n",
       "      <td>NaN</td>\n",
       "      <td>NaN</td>\n",
       "      <td>Don Young</td>\n",
       "      <td>1933-06-09</td>\n",
       "      <td>M</td>\n",
       "      <td>rep</td>\n",
       "      <td>AK</td>\n",
       "      <td>...</td>\n",
       "      <td>N00007999</td>\n",
       "      <td>NaN</td>\n",
       "      <td>H6AK00045</td>\n",
       "      <td>1897.0</td>\n",
       "      <td>400440</td>\n",
       "      <td>26717.0</td>\n",
       "      <td>Don Young</td>\n",
       "      <td>NaN</td>\n",
       "      <td>14066.0</td>\n",
       "      <td>Don Young</td>\n",
       "    </tr>\n",
       "    <tr>\n",
       "      <td>492</td>\n",
       "      <td>Ocasio-Cortez</td>\n",
       "      <td>Alexandria</td>\n",
       "      <td>NaN</td>\n",
       "      <td>NaN</td>\n",
       "      <td>NaN</td>\n",
       "      <td>Alexandria Ocasio-Cortez</td>\n",
       "      <td>1989-10-13</td>\n",
       "      <td>F</td>\n",
       "      <td>rep</td>\n",
       "      <td>NY</td>\n",
       "      <td>...</td>\n",
       "      <td>N00041162</td>\n",
       "      <td>NaN</td>\n",
       "      <td>H8NY15148</td>\n",
       "      <td>NaN</td>\n",
       "      <td>412804</td>\n",
       "      <td>180416.0</td>\n",
       "      <td>Alexandria Ocasio-Cortez</td>\n",
       "      <td>NaN</td>\n",
       "      <td>21949.0</td>\n",
       "      <td>Alexandria Ocasio-Cortez</td>\n",
       "    </tr>\n",
       "  </tbody>\n",
       "</table>\n",
       "<p>4 rows × 34 columns</p>\n",
       "</div>"
      ],
      "text/plain": [
       "         last_name  first_name middle_name suffix nickname  \\\n",
       "5        Feinstein      Dianne         NaN    NaN      NaN   \n",
       "99        Grassley     Charles          E.    NaN    Chuck   \n",
       "250          Young         Don          E.    NaN      NaN   \n",
       "492  Ocasio-Cortez  Alexandria         NaN    NaN      NaN   \n",
       "\n",
       "                    full_name   birthday gender type state  ...  \\\n",
       "5            Dianne Feinstein 1933-06-22      F  sen    CA  ...   \n",
       "99             Chuck Grassley 1933-09-17      M  sen    IA  ...   \n",
       "250                 Don Young 1933-06-09      M  rep    AK  ...   \n",
       "492  Alexandria Ocasio-Cortez 1989-10-13      F  rep    NY  ...   \n",
       "\n",
       "     opensecrets_id  lis_id    fec_ids cspan_id govtrack_id votesmart_id  \\\n",
       "5         N00007364    S221  S0CA00199  13061.0      300043      53273.0   \n",
       "99        N00001758    S153  S0IA00028   1167.0      300048      53293.0   \n",
       "250       N00007999     NaN  H6AK00045   1897.0      400440      26717.0   \n",
       "492       N00041162     NaN  H8NY15148      NaN      412804     180416.0   \n",
       "\n",
       "               ballotpedia_id washington_post_id icpsr_id  \\\n",
       "5            Dianne Feinstein                NaN  49300.0   \n",
       "99             Chuck Grassley                NaN  14226.0   \n",
       "250                 Don Young                NaN  14066.0   \n",
       "492  Alexandria Ocasio-Cortez                NaN  21949.0   \n",
       "\n",
       "                 wikipedia_id  \n",
       "5            Dianne Feinstein  \n",
       "99             Chuck Grassley  \n",
       "250                 Don Young  \n",
       "492  Alexandria Ocasio-Cortez  \n",
       "\n",
       "[4 rows x 34 columns]"
      ]
     },
     "execution_count": 73,
     "metadata": {},
     "output_type": "execute_result"
    }
   ],
   "source": [
    "a = age.max() \n",
    "leg[(age == age.max()) | (age == age.min())]"
   ]
  },
  {
   "cell_type": "markdown",
   "metadata": {},
   "source": [
    "Notice that the result of subtracting two `datetime` objects is a `timedelta` object. It contains the difference between two time values. The value we calculated therefore gives us the number of days old.  However, we want the number of years. \n",
    "\n",
    "To get the number of years we can divide the number of days old by the number of days in a year (i.e. 365). However, we need to extract out the days from the `datetime` object. To get this, the Pandas Series object has an accessor for extracting components of `datetime` objects and `timedelta` objects. It's named `dt` and it works for both.  You can learn more about the attributes of this accessor at the [datetime objects page](https://pandas.pydata.org/pandas-docs/stable/reference/series.html#datetime-properties) and the [timedelta objects page](https://pandas.pydata.org/pandas-docs/stable/reference/series.html#timedelta-properties) by clicking.  Take a moment to look over that documentation.\n",
    "\n",
    "How would then extract the days in order to divide by 365 to get the years?  Once you've figurd it out. Do so, convert the years to an integer and add the resulting series back into the legislator dataframe as a new column named `age`.  Hint: use the [astype](https://pandas.pydata.org/pandas-docs/stable/reference/api/pandas.Series.astype.html) function of Pandas to convert the type."
   ]
  },
  {
   "cell_type": "code",
   "execution_count": null,
   "metadata": {},
   "outputs": [],
   "source": []
  },
  {
   "cell_type": "markdown",
   "metadata": {},
   "source": [
    "Next, find the youngest, oldest and average age of all legislators"
   ]
  },
  {
   "cell_type": "code",
   "execution_count": null,
   "metadata": {},
   "outputs": [],
   "source": []
  },
  {
   "cell_type": "markdown",
   "metadata": {},
   "source": [
    "Who are the oldest and youngest legislators?"
   ]
  },
  {
   "cell_type": "code",
   "execution_count": null,
   "metadata": {},
   "outputs": [],
   "source": []
  },
  {
   "cell_type": "markdown",
   "metadata": {},
   "source": [
    "## Exercise 9:  Indexing with loc and iloc\n",
    "Reindex the legislators dataframe using the state, and find all legislators from your home state using the `loc` accessor."
   ]
  },
  {
   "cell_type": "code",
   "execution_count": null,
   "metadata": {},
   "outputs": [],
   "source": []
  },
  {
   "cell_type": "markdown",
   "metadata": {},
   "source": [
    "Use the loc command to find all legislators from South Carolina and North Carolina"
   ]
  },
  {
   "cell_type": "code",
   "execution_count": null,
   "metadata": {},
   "outputs": [],
   "source": []
  },
  {
   "cell_type": "markdown",
   "metadata": {},
   "source": [
    "Use the loc command to retrieve all legislators from California, Oregon and Washington and only get their full name, state, party and age"
   ]
  },
  {
   "cell_type": "code",
   "execution_count": null,
   "metadata": {},
   "outputs": [],
   "source": []
  },
  {
   "cell_type": "markdown",
   "metadata": {},
   "source": [
    "## Exercise 10: Economics Data Example\n",
    "### Task 1: Explore the data\n",
    "Import the data from the [Lectures in Quantiatives Economics](https://github.com/QuantEcon/lecture-source-py) regarding minimum wages in countries round the world in US Dollars.  You can view the data [here](https://github.com/QuantEcon/lecture-source-py/blob/master/source/_static/lecture_specific/pandas_panel/realwage.csv) and you can access the data file here: https://raw.githubusercontent.com/QuantEcon/lecture-source-py/master/source/_static/lecture_specific/pandas_panel/realwage.csv.  Then perform the following\n",
    "\n",
    "Import and print the first 5 lines of data to explore what is there."
   ]
  },
  {
   "cell_type": "code",
   "execution_count": null,
   "metadata": {},
   "outputs": [],
   "source": []
  },
  {
   "cell_type": "code",
   "execution_count": null,
   "metadata": {},
   "outputs": [],
   "source": []
  },
  {
   "cell_type": "markdown",
   "metadata": {},
   "source": [
    "Find the shape of the data."
   ]
  },
  {
   "cell_type": "code",
   "execution_count": null,
   "metadata": {},
   "outputs": [],
   "source": []
  },
  {
   "cell_type": "markdown",
   "metadata": {},
   "source": [
    "List the column names."
   ]
  },
  {
   "cell_type": "code",
   "execution_count": null,
   "metadata": {},
   "outputs": [],
   "source": []
  },
  {
   "cell_type": "markdown",
   "metadata": {},
   "source": [
    "Identify the data types. Do they match what you would expect?"
   ]
  },
  {
   "cell_type": "code",
   "execution_count": null,
   "metadata": {},
   "outputs": [],
   "source": []
  },
  {
   "cell_type": "markdown",
   "metadata": {},
   "source": [
    "Identify columns with missing values. "
   ]
  },
  {
   "cell_type": "code",
   "execution_count": null,
   "metadata": {},
   "outputs": [],
   "source": []
  },
  {
   "cell_type": "markdown",
   "metadata": {},
   "source": [
    "Identify if there are duplicated entires."
   ]
  },
  {
   "cell_type": "code",
   "execution_count": null,
   "metadata": {},
   "outputs": [],
   "source": []
  },
  {
   "cell_type": "markdown",
   "metadata": {},
   "source": [
    "How many unique values per row are there.  Do these look reasonable for the data type and what you know about what is stored in the column?"
   ]
  },
  {
   "cell_type": "code",
   "execution_count": null,
   "metadata": {},
   "outputs": [],
   "source": []
  },
  {
   "cell_type": "markdown",
   "metadata": {},
   "source": [
    "### Task 2: Explore More\n",
    "Retrieve descriptive statistics for the data."
   ]
  },
  {
   "cell_type": "code",
   "execution_count": null,
   "metadata": {},
   "outputs": [],
   "source": []
  },
  {
   "cell_type": "markdown",
   "metadata": {},
   "source": [
    "Identify all of the countries listed in the data."
   ]
  },
  {
   "cell_type": "code",
   "execution_count": null,
   "metadata": {},
   "outputs": [],
   "source": []
  },
  {
   "cell_type": "markdown",
   "metadata": {},
   "source": [
    "Convert the time column to a datetime object."
   ]
  },
  {
   "cell_type": "code",
   "execution_count": null,
   "metadata": {},
   "outputs": [],
   "source": []
  },
  {
   "cell_type": "markdown",
   "metadata": {},
   "source": [
    "Identify the time points that were used for data collection. How many years of data collection were there? What time of year were the data collected?"
   ]
  },
  {
   "cell_type": "code",
   "execution_count": null,
   "metadata": {},
   "outputs": [],
   "source": []
  },
  {
   "cell_type": "markdown",
   "metadata": {},
   "source": [
    "Because we only have one data point collected per year per country, simplify this by adding a new column with just the year.  Print the first 5 rows to confirm the column was added."
   ]
  },
  {
   "cell_type": "code",
   "execution_count": null,
   "metadata": {},
   "outputs": [],
   "source": []
  },
  {
   "cell_type": "markdown",
   "metadata": {},
   "source": [
    "There are two pay periods.  Retrieve them in a list of just the two strings"
   ]
  },
  {
   "cell_type": "code",
   "execution_count": null,
   "metadata": {},
   "outputs": [],
   "source": []
  },
  {
   "cell_type": "markdown",
   "metadata": {},
   "source": [
    "### Task 3: Clean the data\n",
    "We have no duplicates in this data so we do not need to consider removing those, but we do have missing values in the `value` column. Lets remove those.  Check the dimensions afterwards to make sure they rows with missing values are gone."
   ]
  },
  {
   "cell_type": "code",
   "execution_count": null,
   "metadata": {},
   "outputs": [],
   "source": []
  },
  {
   "cell_type": "markdown",
   "metadata": {},
   "source": [
    "### Task 4:  Indexing\n",
    "Use boolean indexing to retrieve the rows of annual salary in United States"
   ]
  },
  {
   "cell_type": "code",
   "execution_count": null,
   "metadata": {},
   "outputs": [],
   "source": []
  },
  {
   "cell_type": "markdown",
   "metadata": {},
   "source": [
    "Do we have enough data to calculate descriptive statistics for annual salary in the United States in 2016?"
   ]
  },
  {
   "cell_type": "code",
   "execution_count": null,
   "metadata": {},
   "outputs": [],
   "source": []
  },
  {
   "cell_type": "markdown",
   "metadata": {},
   "source": [
    "Use loc to calculate descriptive statistics for the hourly salary in the United States and then again separately for Ireland. Hint: you will have to set row indexes."
   ]
  },
  {
   "cell_type": "code",
   "execution_count": null,
   "metadata": {},
   "outputs": [],
   "source": []
  },
  {
   "cell_type": "markdown",
   "metadata": {},
   "source": [
    "Now do the same for Annual salary"
   ]
  },
  {
   "cell_type": "code",
   "execution_count": null,
   "metadata": {},
   "outputs": [],
   "source": []
  }
 ],
 "metadata": {
  "kernelspec": {
   "display_name": "Python 3",
   "language": "python",
   "name": "python3"
  },
  "language_info": {
   "codemirror_mode": {
    "name": "ipython",
    "version": 3
   },
   "file_extension": ".py",
   "mimetype": "text/x-python",
   "name": "python",
   "nbconvert_exporter": "python",
   "pygments_lexer": "ipython3",
   "version": "3.7.4"
  }
 },
 "nbformat": 4,
 "nbformat_minor": 4
}
